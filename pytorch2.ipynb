{
  "nbformat": 4,
  "nbformat_minor": 0,
  "metadata": {
    "colab": {
      "provenance": [],
      "authorship_tag": "ABX9TyNgAxOpULvbVkvKkQLAnuwG",
      "include_colab_link": true
    },
    "kernelspec": {
      "name": "python3",
      "display_name": "Python 3"
    },
    "language_info": {
      "name": "python"
    },
    "widgets": {
      "application/vnd.jupyter.widget-state+json": {
        "54c45ae6154d4754a4ac53b4efcdec5d": {
          "model_module": "@jupyter-widgets/controls",
          "model_name": "HBoxModel",
          "model_module_version": "1.5.0",
          "state": {
            "_dom_classes": [],
            "_model_module": "@jupyter-widgets/controls",
            "_model_module_version": "1.5.0",
            "_model_name": "HBoxModel",
            "_view_count": null,
            "_view_module": "@jupyter-widgets/controls",
            "_view_module_version": "1.5.0",
            "_view_name": "HBoxView",
            "box_style": "",
            "children": [
              "IPY_MODEL_39885c6467a84ae2a9915ec0318ee2d2",
              "IPY_MODEL_058a74c7d316421db0045cd581883897",
              "IPY_MODEL_b5222ad0570f494ba742a8277e280ed6"
            ],
            "layout": "IPY_MODEL_ac2d8fdeee304a0bb359485255c15e2e"
          }
        },
        "39885c6467a84ae2a9915ec0318ee2d2": {
          "model_module": "@jupyter-widgets/controls",
          "model_name": "HTMLModel",
          "model_module_version": "1.5.0",
          "state": {
            "_dom_classes": [],
            "_model_module": "@jupyter-widgets/controls",
            "_model_module_version": "1.5.0",
            "_model_name": "HTMLModel",
            "_view_count": null,
            "_view_module": "@jupyter-widgets/controls",
            "_view_module_version": "1.5.0",
            "_view_name": "HTMLView",
            "description": "",
            "description_tooltip": null,
            "layout": "IPY_MODEL_4e37693c81a140fca8e9978482abd68f",
            "placeholder": "​",
            "style": "IPY_MODEL_10cb00c201844c9aa88ab3d5a60b48e3",
            "value": "Epoch 17: 100%"
          }
        },
        "058a74c7d316421db0045cd581883897": {
          "model_module": "@jupyter-widgets/controls",
          "model_name": "FloatProgressModel",
          "model_module_version": "1.5.0",
          "state": {
            "_dom_classes": [],
            "_model_module": "@jupyter-widgets/controls",
            "_model_module_version": "1.5.0",
            "_model_name": "FloatProgressModel",
            "_view_count": null,
            "_view_module": "@jupyter-widgets/controls",
            "_view_module_version": "1.5.0",
            "_view_name": "ProgressView",
            "bar_style": "success",
            "description": "",
            "description_tooltip": null,
            "layout": "IPY_MODEL_90209a1da4ce41ca84ca6cac3b52f647",
            "max": 9,
            "min": 0,
            "orientation": "horizontal",
            "style": "IPY_MODEL_4c12bdc5eabb4f77a8d068b11f6678ad",
            "value": 9
          }
        },
        "b5222ad0570f494ba742a8277e280ed6": {
          "model_module": "@jupyter-widgets/controls",
          "model_name": "HTMLModel",
          "model_module_version": "1.5.0",
          "state": {
            "_dom_classes": [],
            "_model_module": "@jupyter-widgets/controls",
            "_model_module_version": "1.5.0",
            "_model_name": "HTMLModel",
            "_view_count": null,
            "_view_module": "@jupyter-widgets/controls",
            "_view_module_version": "1.5.0",
            "_view_name": "HTMLView",
            "description": "",
            "description_tooltip": null,
            "layout": "IPY_MODEL_78cc3b55947046b8b0a5d85f1287a6c3",
            "placeholder": "​",
            "style": "IPY_MODEL_4791e4f105d24379832dbcf113d34873",
            "value": " 9/9 [00:00&lt;00:00, 67.94it/s, v_num=0]"
          }
        },
        "ac2d8fdeee304a0bb359485255c15e2e": {
          "model_module": "@jupyter-widgets/base",
          "model_name": "LayoutModel",
          "model_module_version": "1.2.0",
          "state": {
            "_model_module": "@jupyter-widgets/base",
            "_model_module_version": "1.2.0",
            "_model_name": "LayoutModel",
            "_view_count": null,
            "_view_module": "@jupyter-widgets/base",
            "_view_module_version": "1.2.0",
            "_view_name": "LayoutView",
            "align_content": null,
            "align_items": null,
            "align_self": null,
            "border": null,
            "bottom": null,
            "display": "inline-flex",
            "flex": null,
            "flex_flow": "row wrap",
            "grid_area": null,
            "grid_auto_columns": null,
            "grid_auto_flow": null,
            "grid_auto_rows": null,
            "grid_column": null,
            "grid_gap": null,
            "grid_row": null,
            "grid_template_areas": null,
            "grid_template_columns": null,
            "grid_template_rows": null,
            "height": null,
            "justify_content": null,
            "justify_items": null,
            "left": null,
            "margin": null,
            "max_height": null,
            "max_width": null,
            "min_height": null,
            "min_width": null,
            "object_fit": null,
            "object_position": null,
            "order": null,
            "overflow": null,
            "overflow_x": null,
            "overflow_y": null,
            "padding": null,
            "right": null,
            "top": null,
            "visibility": null,
            "width": "100%"
          }
        },
        "4e37693c81a140fca8e9978482abd68f": {
          "model_module": "@jupyter-widgets/base",
          "model_name": "LayoutModel",
          "model_module_version": "1.2.0",
          "state": {
            "_model_module": "@jupyter-widgets/base",
            "_model_module_version": "1.2.0",
            "_model_name": "LayoutModel",
            "_view_count": null,
            "_view_module": "@jupyter-widgets/base",
            "_view_module_version": "1.2.0",
            "_view_name": "LayoutView",
            "align_content": null,
            "align_items": null,
            "align_self": null,
            "border": null,
            "bottom": null,
            "display": null,
            "flex": null,
            "flex_flow": null,
            "grid_area": null,
            "grid_auto_columns": null,
            "grid_auto_flow": null,
            "grid_auto_rows": null,
            "grid_column": null,
            "grid_gap": null,
            "grid_row": null,
            "grid_template_areas": null,
            "grid_template_columns": null,
            "grid_template_rows": null,
            "height": null,
            "justify_content": null,
            "justify_items": null,
            "left": null,
            "margin": null,
            "max_height": null,
            "max_width": null,
            "min_height": null,
            "min_width": null,
            "object_fit": null,
            "object_position": null,
            "order": null,
            "overflow": null,
            "overflow_x": null,
            "overflow_y": null,
            "padding": null,
            "right": null,
            "top": null,
            "visibility": null,
            "width": null
          }
        },
        "10cb00c201844c9aa88ab3d5a60b48e3": {
          "model_module": "@jupyter-widgets/controls",
          "model_name": "DescriptionStyleModel",
          "model_module_version": "1.5.0",
          "state": {
            "_model_module": "@jupyter-widgets/controls",
            "_model_module_version": "1.5.0",
            "_model_name": "DescriptionStyleModel",
            "_view_count": null,
            "_view_module": "@jupyter-widgets/base",
            "_view_module_version": "1.2.0",
            "_view_name": "StyleView",
            "description_width": ""
          }
        },
        "90209a1da4ce41ca84ca6cac3b52f647": {
          "model_module": "@jupyter-widgets/base",
          "model_name": "LayoutModel",
          "model_module_version": "1.2.0",
          "state": {
            "_model_module": "@jupyter-widgets/base",
            "_model_module_version": "1.2.0",
            "_model_name": "LayoutModel",
            "_view_count": null,
            "_view_module": "@jupyter-widgets/base",
            "_view_module_version": "1.2.0",
            "_view_name": "LayoutView",
            "align_content": null,
            "align_items": null,
            "align_self": null,
            "border": null,
            "bottom": null,
            "display": null,
            "flex": "2",
            "flex_flow": null,
            "grid_area": null,
            "grid_auto_columns": null,
            "grid_auto_flow": null,
            "grid_auto_rows": null,
            "grid_column": null,
            "grid_gap": null,
            "grid_row": null,
            "grid_template_areas": null,
            "grid_template_columns": null,
            "grid_template_rows": null,
            "height": null,
            "justify_content": null,
            "justify_items": null,
            "left": null,
            "margin": null,
            "max_height": null,
            "max_width": null,
            "min_height": null,
            "min_width": null,
            "object_fit": null,
            "object_position": null,
            "order": null,
            "overflow": null,
            "overflow_x": null,
            "overflow_y": null,
            "padding": null,
            "right": null,
            "top": null,
            "visibility": null,
            "width": null
          }
        },
        "4c12bdc5eabb4f77a8d068b11f6678ad": {
          "model_module": "@jupyter-widgets/controls",
          "model_name": "ProgressStyleModel",
          "model_module_version": "1.5.0",
          "state": {
            "_model_module": "@jupyter-widgets/controls",
            "_model_module_version": "1.5.0",
            "_model_name": "ProgressStyleModel",
            "_view_count": null,
            "_view_module": "@jupyter-widgets/base",
            "_view_module_version": "1.2.0",
            "_view_name": "StyleView",
            "bar_color": null,
            "description_width": ""
          }
        },
        "78cc3b55947046b8b0a5d85f1287a6c3": {
          "model_module": "@jupyter-widgets/base",
          "model_name": "LayoutModel",
          "model_module_version": "1.2.0",
          "state": {
            "_model_module": "@jupyter-widgets/base",
            "_model_module_version": "1.2.0",
            "_model_name": "LayoutModel",
            "_view_count": null,
            "_view_module": "@jupyter-widgets/base",
            "_view_module_version": "1.2.0",
            "_view_name": "LayoutView",
            "align_content": null,
            "align_items": null,
            "align_self": null,
            "border": null,
            "bottom": null,
            "display": null,
            "flex": null,
            "flex_flow": null,
            "grid_area": null,
            "grid_auto_columns": null,
            "grid_auto_flow": null,
            "grid_auto_rows": null,
            "grid_column": null,
            "grid_gap": null,
            "grid_row": null,
            "grid_template_areas": null,
            "grid_template_columns": null,
            "grid_template_rows": null,
            "height": null,
            "justify_content": null,
            "justify_items": null,
            "left": null,
            "margin": null,
            "max_height": null,
            "max_width": null,
            "min_height": null,
            "min_width": null,
            "object_fit": null,
            "object_position": null,
            "order": null,
            "overflow": null,
            "overflow_x": null,
            "overflow_y": null,
            "padding": null,
            "right": null,
            "top": null,
            "visibility": null,
            "width": null
          }
        },
        "4791e4f105d24379832dbcf113d34873": {
          "model_module": "@jupyter-widgets/controls",
          "model_name": "DescriptionStyleModel",
          "model_module_version": "1.5.0",
          "state": {
            "_model_module": "@jupyter-widgets/controls",
            "_model_module_version": "1.5.0",
            "_model_name": "DescriptionStyleModel",
            "_view_count": null,
            "_view_module": "@jupyter-widgets/base",
            "_view_module_version": "1.2.0",
            "_view_name": "StyleView",
            "description_width": ""
          }
        }
      }
    }
  },
  "cells": [
    {
      "cell_type": "markdown",
      "metadata": {
        "id": "view-in-github",
        "colab_type": "text"
      },
      "source": [
        "<a href=\"https://colab.research.google.com/github/jadhav-rakesh/PyTorch/blob/main/pytorch2.ipynb\" target=\"_parent\"><img src=\"https://colab.research.google.com/assets/colab-badge.svg\" alt=\"Open In Colab\"/></a>"
      ]
    },
    {
      "cell_type": "code",
      "execution_count": 1,
      "metadata": {
        "colab": {
          "base_uri": "https://localhost:8080/"
        },
        "id": "2BL5IoKJoaEu",
        "outputId": "cf97f9f1-7912-4b23-ef2b-5d1287ad5332"
      },
      "outputs": [
        {
          "output_type": "execute_result",
          "data": {
            "text/plain": [
              "tensor([1., 1., 1.])"
            ]
          },
          "metadata": {},
          "execution_count": 1
        }
      ],
      "source": [
        "import torch\n",
        "\n",
        "t = torch.tensor([1.0, 2.0, 3.0], requires_grad=True)\n",
        "\n",
        "tensor_sum = t.sum()\n",
        "\n",
        "tensor_sum.backward()\n",
        "\n",
        "t.grad"
      ]
    },
    {
      "cell_type": "markdown",
      "source": [
        "* PyTorch uses a directed acyclic graph (DAG) to keep a record of all data and computational operations being performed on that data"
      ],
      "metadata": {
        "id": "gJzE4SPvrHMr"
      }
    },
    {
      "cell_type": "code",
      "source": [
        "from sklearn import preprocessing\n",
        "import numpy as np\n",
        "\n",
        "features = np.array([[-100.1, 3240.1],\n",
        "                     [-200.2, -234.1],\n",
        "                     [5000.5, 150.1],\n",
        "                     [6000.6, -125.1],\n",
        "                     [9000.9, -673.1]])\n",
        "\n",
        "scaler = preprocessing.StandardScaler()\n",
        "\n",
        "features = scaler.fit_transform(features)\n",
        "\n",
        "features_std_tensor = torch.from_numpy(features)\n",
        "\n",
        "features_std_tensor"
      ],
      "metadata": {
        "colab": {
          "base_uri": "https://localhost:8080/"
        },
        "id": "3hKm48Q-q22R",
        "outputId": "a5891553-3ce8-4286-cc48-f647237e52d4"
      },
      "execution_count": 2,
      "outputs": [
        {
          "output_type": "execute_result",
          "data": {
            "text/plain": [
              "tensor([[-1.1254,  1.9643],\n",
              "        [-1.1533, -0.5007],\n",
              "        [ 0.2953, -0.2281],\n",
              "        [ 0.5739, -0.4234],\n",
              "        [ 1.4096, -0.8122]], dtype=torch.float64)"
            ]
          },
          "metadata": {},
          "execution_count": 2
        }
      ]
    },
    {
      "cell_type": "code",
      "source": [
        "torch_features = torch.tensor([[-100.1, 3240.1],\n",
        "                               [-200.2, -234.1],\n",
        "                               [5000.5, 150.1],\n",
        "                               [6000.6, -125.1],\n",
        "                               [9000.9, -673.1]], requires_grad=True)\n",
        "\n",
        "mean = torch_features.mean(0, keepdim=True)\n",
        "std = torch_features.std(0, unbiased=False, keepdim=True)\n",
        "\n",
        "torch_features_std = torch_features - mean\n",
        "torch_features_std /= std\n",
        "\n",
        "torch_features_std"
      ],
      "metadata": {
        "colab": {
          "base_uri": "https://localhost:8080/"
        },
        "id": "xpEU6T8Ose6G",
        "outputId": "9f591e1c-61da-4baa-8793-03cb1a0c1f4d"
      },
      "execution_count": 3,
      "outputs": [
        {
          "output_type": "execute_result",
          "data": {
            "text/plain": [
              "tensor([[-1.1254,  1.9643],\n",
              "        [-1.1533, -0.5007],\n",
              "        [ 0.2953, -0.2281],\n",
              "        [ 0.5739, -0.4234],\n",
              "        [ 1.4096, -0.8122]], grad_fn=<DivBackward0>)"
            ]
          },
          "metadata": {},
          "execution_count": 3
        }
      ]
    },
    {
      "cell_type": "code",
      "source": [
        "import torch.nn as nn\n",
        "\n",
        "class SimpleNeuralNet(nn.Module):\n",
        "    def __init__(self):\n",
        "        super(SimpleNeuralNet, self).__init__()\n",
        "        self.fc1 = nn.Linear(10, 16)\n",
        "        self.fc2 = nn.Linear(16, 16)\n",
        "        self.fc3 = nn.Linear(16, 1)\n",
        "\n",
        "    def forward(self, x):\n",
        "        x = nn.functional.relu(self.fc1(x))\n",
        "        x = nn.functional.relu(self.fc2(x))\n",
        "        x = nn.functional.sigmoid(self.fc3(x))\n",
        "        return x\n",
        "\n",
        "network = SimpleNeuralNet()\n",
        "\n",
        "loss_criterion = nn.BCELoss()\n",
        "optimzer = torch.optim.RMSprop(network.parameters())\n",
        "\n",
        "network"
      ],
      "metadata": {
        "colab": {
          "base_uri": "https://localhost:8080/"
        },
        "id": "8IhC2HGXtIQo",
        "outputId": "ce512104-a7f0-4dd6-ca73-4a8ad6a185ba"
      },
      "execution_count": 4,
      "outputs": [
        {
          "output_type": "execute_result",
          "data": {
            "text/plain": [
              "SimpleNeuralNet(\n",
              "  (fc1): Linear(in_features=10, out_features=16, bias=True)\n",
              "  (fc2): Linear(in_features=16, out_features=16, bias=True)\n",
              "  (fc3): Linear(in_features=16, out_features=1, bias=True)\n",
              ")"
            ]
          },
          "metadata": {},
          "execution_count": 4
        }
      ]
    },
    {
      "cell_type": "markdown",
      "source": [
        "ReLU (Rectified Linear Unit) is widely used in hidden layers of neural networks due to several advantages:\n",
        "\n",
        "* Avoids Vanishing Gradient - Unlike sigmoid and tanh, ReLU does not saturate for positive inputs, reducing the risk of vanishing gradients and enabling better weight updates.\n",
        "\n",
        "* Computational Efficiency –\n",
        "ReLU involves simple thresholding (max(0, x)), making it computationally cheaper compared to sigmoid or tanh.\n",
        "\n",
        "* Sparsity – ReLU outputs zero for negative inputs, leading to sparse activations, which can improve model efficiency and generalization.\n",
        "\n",
        "* Improves Training Speed – Due to its linear, non-saturating nature, ReLU allows for faster convergence during backpropagation.\n",
        "\n",
        "* Better Representation Learning – ReLU enables deep networks to capture complex patterns effectively due to its piecewise linear nature.\n",
        "\n",
        "* Handles Non-Linearity – Despite being a simple function, ReLU introduces non-linearity, allowing deep networks to learn complex mappings.\n",
        "\n",
        "* Works Well in Practice – Empirical results show that ReLU significantly improves performance in deep learning models.\n",
        "\n",
        "#Drawbacks (for awareness):\n",
        "* Dying ReLU Problem – Neurons can get stuck in inactive states (outputting zero) if large negative gradients push them to always be negative.\n",
        "* Exploding Activations – Without proper weight initialization or regularization, ReLU can lead to large activation values.\n",
        "* Variants like Leaky ReLU, Parametric ReLU (PReLU), and GELU help mitigate these issues.:"
      ],
      "metadata": {
        "id": "LMcL2SAzwHg1"
      }
    },
    {
      "cell_type": "markdown",
      "source": [
        "#common output layer patterns\n",
        "\n",
        "* Binary classification -  sigmoid activation function\n",
        "* Multiclass classification - a softmax activation function\n",
        "* Regression - One unit with no activation function\n",
        "\n",
        "# loss function\n",
        "\n",
        "* Binary classification - Binary cross-entropy\n",
        "* Multiclass classification - Categorical cross-entropy\n",
        "* Regression - Mean square error"
      ],
      "metadata": {
        "id": "5flYv6NvvJnw"
      }
    },
    {
      "cell_type": "markdown",
      "source": [
        "#optimizer\n",
        "* stochastic gradient descent\n",
        "* stochastic gradient descent with momentum\n",
        "* root mean square propagation\n",
        "* adaptive moment estimation"
      ],
      "metadata": {
        "id": "kNCc3J5lxYdl"
      }
    },
    {
      "cell_type": "code",
      "source": [
        "class SimpleNeuralNet(nn.Module):\n",
        "    def __init__(self):\n",
        "        super(SimpleNeuralNet, self).__init__()\n",
        "        self.sequential = torch.nn.Sequential(\n",
        "            torch.nn.Linear(10, 16),\n",
        "            torch.nn.ReLU(),\n",
        "            torch.nn.Linear(16, 16),\n",
        "            torch.nn.ReLU(),\n",
        "            torch.nn.Linear(16, 1),\n",
        "            torch.nn.Sigmoid()\n",
        "        )\n",
        "\n",
        "    def forward(self, x):\n",
        "        x = self.sequential(x)\n",
        "        return x\n",
        "\n",
        "SimpleNeuralNet()"
      ],
      "metadata": {
        "colab": {
          "base_uri": "https://localhost:8080/"
        },
        "id": "7zUu19JxvJON",
        "outputId": "bbc90721-7b65-497d-ac8c-0c7f93311b7f"
      },
      "execution_count": 5,
      "outputs": [
        {
          "output_type": "execute_result",
          "data": {
            "text/plain": [
              "SimpleNeuralNet(\n",
              "  (sequential): Sequential(\n",
              "    (0): Linear(in_features=10, out_features=16, bias=True)\n",
              "    (1): ReLU()\n",
              "    (2): Linear(in_features=16, out_features=16, bias=True)\n",
              "    (3): ReLU()\n",
              "    (4): Linear(in_features=16, out_features=1, bias=True)\n",
              "    (5): Sigmoid()\n",
              "  )\n",
              ")"
            ]
          },
          "metadata": {},
          "execution_count": 5
        }
      ]
    },
    {
      "cell_type": "markdown",
      "source": [
        "# Training a Binary Classifier"
      ],
      "metadata": {
        "id": "pc5jgZcH8kBq"
      }
    },
    {
      "cell_type": "code",
      "source": [
        "import torch\n",
        "import torch.nn as nn\n",
        "import numpy as np\n",
        "from torch.utils.data import DataLoader, TensorDataset\n",
        "from torch.optim import RMSprop\n",
        "from sklearn.datasets import make_classification\n",
        "from sklearn.model_selection import train_test_split\n",
        "\n",
        "features, target = make_classification(n_classes=2,\n",
        "                                       n_features=10,\n",
        "                                       n_samples=1000)\n",
        "\n",
        "f_train, f_test, t_train, t_test = train_test_split(features, target,\n",
        "                                                    test_size=0.1,\n",
        "                                                    random_state=1)\n",
        "\n",
        "torch.manual_seed(42)\n",
        "np.random.seed(42)\n",
        "\n",
        "x_train = torch.from_numpy(f_train).float()\n",
        "y_train = torch.from_numpy(t_train).view(-1, 1)\n",
        "x_test = torch.from_numpy(f_test).float()\n",
        "y_test = torch.from_numpy(t_test).view(-1, 1)\n",
        "\n",
        "class SimpleNeuralNet(nn.Module):\n",
        "    def __init__(self):\n",
        "        super(SimpleNeuralNet, self).__init__()\n",
        "        self.sequential = torch.nn.Sequential(\n",
        "            torch.nn.Linear(10, 16),\n",
        "            torch.nn.ReLU(),\n",
        "            torch.nn.Linear(16, 16),\n",
        "            torch.nn.ReLU(),\n",
        "            torch.nn.Linear(16, 1),\n",
        "            torch.nn.Sigmoid()\n",
        "        )\n",
        "\n",
        "    def forward(self, x):\n",
        "        x = self.sequential(x)\n",
        "        return x\n",
        "\n",
        "network = SimpleNeuralNet()\n",
        "\n",
        "criterion = nn.BCELoss()\n",
        "optimizer = RMSprop(network.parameters())\n",
        "\n",
        "train_data = TensorDataset(x_train, y_train)\n",
        "train_loader = DataLoader(train_data, batch_size=100, shuffle=True)\n",
        "\n",
        "network = torch.compile(network)\n",
        "\n",
        "epochs = 3\n",
        "\n",
        "for epoch in range(epochs):\n",
        "    epoch_loss = 0.0\n",
        "    for batch_idx, (data, target) in enumerate(train_loader):\n",
        "        optimizer.zero_grad()\n",
        "        output = network(data)\n",
        "        loss = criterion(output, target.float())\n",
        "        loss.backward()\n",
        "        optimizer.step()\n",
        "        epoch_loss += loss.item()\n",
        "    avg_loss = epoch_loss/len(train_loader)\n",
        "    print(\"Epoch:\", epoch+1, \"\\tLoss\", avg_loss)\n",
        "\n",
        "with torch.no_grad():\n",
        "    output = network(x_test)\n",
        "    test_loss = criterion(output, y_test.float())\n",
        "    test_accuracy = (output.round() == y_test.float()).float().mean()\n",
        "    print(\"Test Loss:\", test_loss.item(), \"\\tTest Accuracy:\", test_accuracy.item())"
      ],
      "metadata": {
        "colab": {
          "base_uri": "https://localhost:8080/"
        },
        "id": "D8BREpPP8n8y",
        "outputId": "0b0382b1-4b29-4a15-85b3-848d4178106b"
      },
      "execution_count": 6,
      "outputs": [
        {
          "output_type": "stream",
          "name": "stderr",
          "text": [
            "No CUDA runtime is found, using CUDA_HOME='/usr/local/cuda'\n"
          ]
        },
        {
          "output_type": "stream",
          "name": "stdout",
          "text": [
            "Epoch: 1 \tLoss 0.3326633440123664\n",
            "Epoch: 2 \tLoss 0.19515667524602678\n",
            "Epoch: 3 \tLoss 0.1813392365972201\n",
            "Test Loss: 0.11957792192697525 \tTest Accuracy: 0.9599999785423279\n"
          ]
        }
      ]
    },
    {
      "cell_type": "markdown",
      "source": [
        "#Training a Multiclass Classifier"
      ],
      "metadata": {
        "id": "tj_M0zQYO2Ua"
      }
    },
    {
      "cell_type": "code",
      "source": [
        "import torch\n",
        "import torch.nn as nn\n",
        "import numpy as np\n",
        "from torch.utils.data import DataLoader, TensorDataset\n",
        "from torch.optim import RMSprop\n",
        "from sklearn.datasets import make_classification\n",
        "from sklearn.model_selection import train_test_split\n",
        "\n",
        "N_CLASSES = 3\n",
        "EPOCHS = 3\n",
        "\n",
        "features, target = make_classification(n_classes=N_CLASSES,\n",
        "                                       n_informative=9,\n",
        "                                       n_redundant=0,\n",
        "                                       n_features=10,\n",
        "                                       n_samples=1000)\n",
        "\n",
        "f_train, f_test, t_train, t_test = train_test_split(features, target,\n",
        "                                                    test_size=0.2,\n",
        "                                                    random_state=42)\n",
        "\n",
        "torch.manual_seed(42)\n",
        "np.random.seed(42)\n",
        "\n",
        "x_train = torch.from_numpy(f_train).float()\n",
        "y_train = torch.nn.functional.one_hot(torch.from_numpy(t_train).long(),\n",
        "                                      num_classes=N_CLASSES).float()\n",
        "x_test = torch.from_numpy(f_test).float()\n",
        "y_test = torch.nn.functional.one_hot(torch.from_numpy(t_test).long(),\n",
        "                                     num_classes=N_CLASSES).float()\n",
        "\n",
        "class SimpleNeuralNet(nn.Module):\n",
        "    def __init__(self):\n",
        "        super(SimpleNeuralNet, self).__init__()\n",
        "        self.sequential = torch.nn.Sequential(\n",
        "            torch.nn.Linear(10, 16),\n",
        "            torch.nn.ReLU(),\n",
        "            torch.nn.Linear(16, 16),\n",
        "            torch.nn.ReLU(),\n",
        "            torch.nn.Linear(16, 3),\n",
        "            torch.nn.Softmax()\n",
        "        )\n",
        "\n",
        "    def forward(self, x):\n",
        "        x = self.sequential(x)\n",
        "        return x\n",
        "\n",
        "network = SimpleNeuralNet()\n",
        "\n",
        "criterion = nn.CrossEntropyLoss()\n",
        "optimizer = RMSprop(network.parameters())\n",
        "\n",
        "train_data = TensorDataset(x_train, y_train)\n",
        "train_loader = DataLoader(train_data, batch_size=100, shuffle=True)\n",
        "\n",
        "network = torch.compile(network)\n",
        "\n",
        "for epoch in range(EPOCHS):\n",
        "    epoch_loss = 0.0\n",
        "    for batch_idx, (data, target) in enumerate(train_loader):\n",
        "        optimizer.zero_grad()\n",
        "        output = network(data)\n",
        "        loss = criterion(output, target)\n",
        "        loss.backward()\n",
        "        optimizer.step()\n",
        "        epoch_loss += loss.item()\n",
        "    avg_loss = epoch_loss/len(train_loader)\n",
        "    print(\"Epoch:\", epoch+1, \"\\tLoss\", avg_loss)\n",
        "\n",
        "with torch.no_grad():\n",
        "    output = network(x_test)\n",
        "    test_loss = criterion(output, y_test)\n",
        "    test_accuracy = (output.round() == y_test).float().mean()\n",
        "    print(\"Test Loss:\", test_loss.item(), \"\\tTest Accuracy:\", test_accuracy.item())\n",
        ""
      ],
      "metadata": {
        "colab": {
          "base_uri": "https://localhost:8080/"
        },
        "id": "Vo51IxiqFcma",
        "outputId": "e920c575-10a7-4388-d98a-a22b8183d5c0"
      },
      "execution_count": 11,
      "outputs": [
        {
          "output_type": "stream",
          "name": "stderr",
          "text": [
            "/usr/local/lib/python3.11/dist-packages/torch/_dynamo/utils.py:1574: UserWarning: Implicit dimension choice for softmax has been deprecated. Change the call to include dim=X as an argument.\n",
            "  return fn()\n",
            "/usr/local/lib/python3.11/dist-packages/torch/fx/experimental/symbolic_shapes.py:5498: UserWarning: Implicit dimension choice for softmax has been deprecated. Change the call to include dim=X as an argument.\n",
            "  result = super().run_node(n)\n",
            "/usr/local/lib/python3.11/dist-packages/torch/nn/functional.py:2134: UserWarning: Implicit dimension choice for softmax has been deprecated. Change the call to include dim=X as an argument.\n",
            "  return handle_torch_function(\n"
          ]
        },
        {
          "output_type": "stream",
          "name": "stdout",
          "text": [
            "Epoch: 1 \tLoss 0.9345520660281181\n",
            "Epoch: 2 \tLoss 0.8015430271625519\n",
            "Epoch: 3 \tLoss 0.755523182451725\n"
          ]
        },
        {
          "output_type": "stream",
          "name": "stderr",
          "text": [
            "/usr/local/lib/python3.11/dist-packages/torch/_dynamo/utils.py:1574: UserWarning: Implicit dimension choice for softmax has been deprecated. Change the call to include dim=X as an argument.\n",
            "  return fn()\n",
            "/usr/local/lib/python3.11/dist-packages/torch/fx/experimental/symbolic_shapes.py:5498: UserWarning: Implicit dimension choice for softmax has been deprecated. Change the call to include dim=X as an argument.\n",
            "  result = super().run_node(n)\n"
          ]
        },
        {
          "output_type": "stream",
          "name": "stdout",
          "text": [
            "Test Loss: 0.7440760135650635 \tTest Accuracy: 0.871666669845581\n"
          ]
        },
        {
          "output_type": "stream",
          "name": "stderr",
          "text": [
            "/usr/local/lib/python3.11/dist-packages/torch/nn/functional.py:2134: UserWarning: Implicit dimension choice for softmax has been deprecated. Change the call to include dim=X as an argument.\n",
            "  return handle_torch_function(\n"
          ]
        }
      ]
    },
    {
      "cell_type": "markdown",
      "source": [
        "#Training a Regressor"
      ],
      "metadata": {
        "id": "iioESBOsV0BM"
      }
    },
    {
      "cell_type": "code",
      "source": [
        "import torch\n",
        "import torch.nn as nn\n",
        "import numpy as np\n",
        "from torch.utils.data import DataLoader, TensorDataset\n",
        "from torch.optim import RMSprop\n",
        "from sklearn.datasets import make_regression\n",
        "from sklearn.model_selection import train_test_split\n",
        "\n",
        "EPOCHS = 20\n",
        "\n",
        "features, target = make_regression(n_features=10, n_samples=1000)\n",
        "\n",
        "f_train, f_test, t_train, t_test = train_test_split(features, target,\n",
        "                                                    test_size=0.2, random_state=42)\n",
        "\n",
        "torch.manual_seed(42)\n",
        "np.random.seed(42)\n",
        "\n",
        "x_train = torch.from_numpy(f_train).float()\n",
        "y_train = torch.from_numpy(t_train).float().view(-1, 1)\n",
        "x_test = torch.from_numpy(f_test).float()\n",
        "y_test = torch.from_numpy(t_test).float().view(-1, 1)\n",
        "\n",
        "class SimpleNeuralNet(nn.Module):\n",
        "    def __init__(self):\n",
        "        super(SimpleNeuralNet, self).__init__()\n",
        "        self.sequential = torch.nn.Sequential(\n",
        "            torch.nn.Linear(10, 16),\n",
        "            torch.nn.ReLU(),\n",
        "            torch.nn.Linear(16, 16),\n",
        "            torch.nn.ReLU(),\n",
        "            torch.nn.Linear(16, 1)\n",
        "        )\n",
        "\n",
        "    def forward(self, x):\n",
        "        x = self.sequential(x)\n",
        "        return x\n",
        "\n",
        "network = SimpleNeuralNet()\n",
        "\n",
        "criterion = nn. MSELoss()\n",
        "optimizer = RMSprop(network.parameters())\n",
        "\n",
        "train_data = TensorDataset(x_train, y_train)\n",
        "train_loader = DataLoader(train_data, batch_size=100, shuffle=True)\n",
        "\n",
        "network = torch.compile(network)\n",
        "\n",
        "for epoch in range(EPOCHS):\n",
        "    epoch_loss = 0\n",
        "    for batch_idx, (data, target) in enumerate(train_loader):\n",
        "        optimizer.zero_grad()\n",
        "        output = network(data)\n",
        "        loss = criterion(output, target)\n",
        "        loss.backward()\n",
        "        optimizer.step()\n",
        "        epoch_loss += loss.item()\n",
        "    avg_loss = epoch_loss/len(train_loader)\n",
        "    print(\"Epoch:\", epoch+1, \"\\tLoss\", avg_loss)\n",
        "\n",
        "with torch.no_grad():\n",
        "    output = network(x_test)\n",
        "    test_loss = float(criterion(output , y_test))\n",
        "    print(\"Test MSE:\", test_loss)"
      ],
      "metadata": {
        "colab": {
          "base_uri": "https://localhost:8080/"
        },
        "id": "BUTPfVsfVzs-",
        "outputId": "cb56a120-e0d9-497b-a084-1c0df590098a"
      },
      "execution_count": 19,
      "outputs": [
        {
          "output_type": "stream",
          "name": "stdout",
          "text": [
            "Epoch: 1 \tLoss 16698.089721679688\n",
            "Epoch: 2 \tLoss 8351.766418457031\n",
            "Epoch: 3 \tLoss 2869.6380615234375\n",
            "Epoch: 4 \tLoss 879.0978546142578\n",
            "Epoch: 5 \tLoss 423.02573013305664\n",
            "Epoch: 6 \tLoss 298.0326156616211\n",
            "Epoch: 7 \tLoss 252.4549331665039\n",
            "Epoch: 8 \tLoss 220.50829315185547\n",
            "Epoch: 9 \tLoss 203.31410598754883\n",
            "Epoch: 10 \tLoss 182.7445182800293\n",
            "Epoch: 11 \tLoss 172.48076820373535\n",
            "Epoch: 12 \tLoss 153.5424747467041\n",
            "Epoch: 13 \tLoss 147.5095090866089\n",
            "Epoch: 14 \tLoss 142.25069904327393\n",
            "Epoch: 15 \tLoss 127.27841663360596\n",
            "Epoch: 16 \tLoss 114.01436138153076\n",
            "Epoch: 17 \tLoss 112.31505012512207\n",
            "Epoch: 18 \tLoss 106.75752830505371\n",
            "Epoch: 19 \tLoss 104.16486024856567\n",
            "Epoch: 20 \tLoss 89.31053447723389\n",
            "Test MSE: 105.21146392822266\n"
          ]
        }
      ]
    },
    {
      "cell_type": "code",
      "source": [
        "import torch\n",
        "import torch.nn as nn\n",
        "import numpy as np\n",
        "from torch.utils.data import DataLoader, TensorDataset\n",
        "from torch.optim import RMSprop\n",
        "from sklearn.datasets import make_classification\n",
        "from sklearn.model_selection import train_test_split\n",
        "\n",
        "features, target = make_classification(n_classes=2,\n",
        "                                       n_features=10,\n",
        "                                       n_samples=1000)\n",
        "\n",
        "f_train, f_test, t_train, t_test = train_test_split(features, target,\n",
        "                                                    test_size=0.1,\n",
        "                                                    random_state=1)\n",
        "\n",
        "torch.manual_seed(42)\n",
        "np.random.seed(42)\n",
        "\n",
        "x_train = torch.from_numpy(f_train).float()\n",
        "y_train = torch.from_numpy(t_train).float().view(-1, 1)\n",
        "x_test = torch.from_numpy(f_test).float()\n",
        "y_test = torch.from_numpy(t_test).float().view(-1, 1)\n",
        "\n",
        "class SimpleNeuralNet(nn.Module):\n",
        "    def __init__(self):\n",
        "        super(SimpleNeuralNet, self).__init__()\n",
        "        self.sequential = torch.nn.Sequential(\n",
        "            torch.nn.Linear(10, 16),\n",
        "            torch.nn.ReLU(),\n",
        "            torch.nn.Linear(16, 16),\n",
        "            torch.nn.ReLU(),\n",
        "            torch.nn.Linear(16, 1),\n",
        "            torch.nn.Sigmoid()\n",
        "        )\n",
        "\n",
        "    def forward(self, x):\n",
        "        x = self.sequential(x)\n",
        "        return x\n",
        "\n",
        "network = SimpleNeuralNet()\n",
        "\n",
        "criterion = nn.BCELoss()\n",
        "optimizer = RMSprop(network.parameters())\n",
        "\n",
        "train_data = TensorDataset(x_train, y_train)\n",
        "train_loader = DataLoader(train_data, batch_size=100, shuffle=True)\n",
        "\n",
        "network = torch.compile(network)\n",
        "\n",
        "epochs = 3\n",
        "\n",
        "for epoch in range(epochs):\n",
        "    epoch_loss = 0.0\n",
        "    for batch_idx, (data, target) in enumerate(train_loader):\n",
        "        optimizer.zero_grad()\n",
        "        output = network(data)\n",
        "        loss = criterion(output, target.float())\n",
        "        loss.backward()\n",
        "        optimizer.step()\n",
        "        epoch_loss += loss.item()\n",
        "    avg_loss = epoch_loss/len(train_loader)\n",
        "    print(\"Epoch:\", epoch+1, \"\\tLoss\", avg_loss)\n",
        "\n",
        "\n",
        "with torch.no_grad():\n",
        "    predicted_class = network.forward(x_train).round()\n",
        "\n",
        "predicted_class[0]"
      ],
      "metadata": {
        "colab": {
          "base_uri": "https://localhost:8080/"
        },
        "id": "i5O7-tp0hH5U",
        "outputId": "aa7139a6-1de2-4361-e024-c65751e2a772"
      },
      "execution_count": 20,
      "outputs": [
        {
          "output_type": "stream",
          "name": "stdout",
          "text": [
            "Epoch: 1 \tLoss 0.42739420466952854\n",
            "Epoch: 2 \tLoss 0.3266519291533364\n",
            "Epoch: 3 \tLoss 0.2937507513496611\n"
          ]
        },
        {
          "output_type": "execute_result",
          "data": {
            "text/plain": [
              "tensor([1.])"
            ]
          },
          "metadata": {},
          "execution_count": 20
        }
      ]
    },
    {
      "cell_type": "code",
      "source": [
        "target[0]"
      ],
      "metadata": {
        "colab": {
          "base_uri": "https://localhost:8080/"
        },
        "id": "GuAcyWKqifkX",
        "outputId": "3f46a4e2-ebb7-435e-bcdc-6c4078d36499"
      },
      "execution_count": 21,
      "outputs": [
        {
          "output_type": "execute_result",
          "data": {
            "text/plain": [
              "tensor([1.])"
            ]
          },
          "metadata": {},
          "execution_count": 21
        }
      ]
    },
    {
      "cell_type": "code",
      "source": [
        "import torch\n",
        "import torch.nn as nn\n",
        "import numpy as np\n",
        "from torch.utils.data import DataLoader, TensorDataset\n",
        "from torch.optim import RMSprop\n",
        "from sklearn.datasets import make_classification\n",
        "from sklearn.model_selection import train_test_split\n",
        "import matplotlib.pyplot as plt\n",
        "\n",
        "\n",
        "features, target = make_classification(n_classes=2,\n",
        "                                       n_features=10,\n",
        "                                       n_samples=1000)\n",
        "\n",
        "f_train, f_test, t_train, t_test = train_test_split(features, target,\n",
        "                                                    test_size=0.1,\n",
        "                                                    random_state=1)\n",
        "\n",
        "torch.manual_seed(42)\n",
        "np.random.seed(42)\n",
        "\n",
        "x_train = torch.from_numpy(f_train).float()\n",
        "y_train = torch.from_numpy(t_train).float().view(-1, 1)\n",
        "x_test = torch.from_numpy(f_test).float()\n",
        "y_test = torch.from_numpy(t_test).float().view(-1, 1)\n",
        "\n",
        "class SimpleNeuralNet(nn.Module):\n",
        "    def __init__(self):\n",
        "        super(SimpleNeuralNet, self).__init__()\n",
        "        self.sequential = torch.nn.Sequential(\n",
        "            torch.nn.Linear(10, 16),\n",
        "            torch.nn.ReLU(),\n",
        "            torch.nn.Linear(16, 16),\n",
        "            torch.nn.ReLU(),\n",
        "            torch.nn.Linear(16, 1),\n",
        "            torch.nn.Sigmoid()\n",
        "        )\n",
        "\n",
        "    def forward(self, x):\n",
        "        x = self.sequential(x)\n",
        "        return x\n",
        "\n",
        "network = SimpleNeuralNet()\n",
        "\n",
        "criterion = nn.BCELoss()\n",
        "optimizer = RMSprop(network.parameters())\n",
        "\n",
        "train_data = TensorDataset(x_train, y_train)\n",
        "train_loader = DataLoader(train_data, batch_size=100, shuffle=True)\n",
        "\n",
        "network = torch.compile(network)\n",
        "\n",
        "epochs = 50\n",
        "train_losses = []\n",
        "test_losses = []\n",
        "\n",
        "for epoch in range(epochs):\n",
        "    epoch_loss = 0.0\n",
        "    for batch_idx, (data, target) in enumerate(train_loader):\n",
        "        optimizer.zero_grad()\n",
        "        output = network(data)\n",
        "        loss = criterion(output, target.float())\n",
        "        loss.backward()\n",
        "        optimizer.step()\n",
        "        epoch_loss += loss.item()\n",
        "    avg_loss = epoch_loss/len(train_loader)\n",
        "    print(\"Epoch:\", epoch+1, \"\\tLoss\", avg_loss)\n",
        "\n",
        "\n",
        "    with torch.no_grad():\n",
        "        train_ouput = network(x_train)\n",
        "        train_loss = criterion(output, target)\n",
        "        train_losses.append(train_loss.item())\n",
        "\n",
        "        test_ouput = network(x_test)\n",
        "        test_loss = criterion(test_ouput, y_test)\n",
        "        test_losses.append(test_loss.item())\n",
        "\n",
        "epochs = range(0, epochs)\n",
        "plt.plot(epochs, train_losses, \"r--\", label = \"Training Loss\")\n",
        "plt.plot(epochs, test_losses, \"b--\", label = \"Test Loss\")\n",
        "plt.legend(loc=\"best\")\n",
        "plt.xlabel(\"Epochs\")\n",
        "plt.ylabel(\"Loss\")\n",
        "plt.show()\n",
        "\n",
        ""
      ],
      "metadata": {
        "colab": {
          "base_uri": "https://localhost:8080/",
          "height": 1000
        },
        "id": "N26Og6Usii4I",
        "outputId": "0a618a27-bc54-40b5-dc5e-7726646e4bd0"
      },
      "execution_count": 26,
      "outputs": [
        {
          "output_type": "stream",
          "name": "stdout",
          "text": [
            "Epoch: 1 \tLoss 0.42739420466952854\n",
            "Epoch: 2 \tLoss 0.3266519291533364\n",
            "Epoch: 3 \tLoss 0.2937507513496611\n",
            "Epoch: 4 \tLoss 0.281571196185218\n",
            "Epoch: 5 \tLoss 0.27301228046417236\n",
            "Epoch: 6 \tLoss 0.25873030059867436\n",
            "Epoch: 7 \tLoss 0.24836049642827776\n",
            "Epoch: 8 \tLoss 0.238298076722357\n",
            "Epoch: 9 \tLoss 0.22843272652890947\n",
            "Epoch: 10 \tLoss 0.2239339699347814\n",
            "Epoch: 11 \tLoss 0.21535810000366634\n",
            "Epoch: 12 \tLoss 0.2116496960322062\n",
            "Epoch: 13 \tLoss 0.20573188530074227\n",
            "Epoch: 14 \tLoss 0.19887231787045798\n",
            "Epoch: 15 \tLoss 0.1989248212840822\n",
            "Epoch: 16 \tLoss 0.1896055605676439\n",
            "Epoch: 17 \tLoss 0.18800499704149035\n",
            "Epoch: 18 \tLoss 0.17886461483107674\n",
            "Epoch: 19 \tLoss 0.17683366272184584\n",
            "Epoch: 20 \tLoss 0.1749239969584677\n",
            "Epoch: 21 \tLoss 0.17230042815208435\n",
            "Epoch: 22 \tLoss 0.16513769328594208\n",
            "Epoch: 23 \tLoss 0.1657428815960884\n",
            "Epoch: 24 \tLoss 0.15971559782822928\n",
            "Epoch: 25 \tLoss 0.1597395862142245\n",
            "Epoch: 26 \tLoss 0.1539860036638048\n",
            "Epoch: 27 \tLoss 0.15022260281774732\n",
            "Epoch: 28 \tLoss 0.1422579445772701\n",
            "Epoch: 29 \tLoss 0.14140866531266105\n",
            "Epoch: 30 \tLoss 0.13534242494238746\n",
            "Epoch: 31 \tLoss 0.13834555115964678\n",
            "Epoch: 32 \tLoss 0.13975501971112358\n",
            "Epoch: 33 \tLoss 0.12870354619291094\n",
            "Epoch: 34 \tLoss 0.13091767662101322\n",
            "Epoch: 35 \tLoss 0.12753503107362324\n",
            "Epoch: 36 \tLoss 0.12316642867194282\n",
            "Epoch: 37 \tLoss 0.12783154803845617\n",
            "Epoch: 38 \tLoss 0.11890824553039339\n",
            "Epoch: 39 \tLoss 0.12199217494991091\n",
            "Epoch: 40 \tLoss 0.1164415975411733\n",
            "Epoch: 41 \tLoss 0.1160838467379411\n",
            "Epoch: 42 \tLoss 0.11283485839764278\n",
            "Epoch: 43 \tLoss 0.10968916449281904\n",
            "Epoch: 44 \tLoss 0.10965581238269806\n",
            "Epoch: 45 \tLoss 0.10313123092055321\n",
            "Epoch: 46 \tLoss 0.1042085082994567\n",
            "Epoch: 47 \tLoss 0.10172814710272683\n",
            "Epoch: 48 \tLoss 0.09561007304324044\n",
            "Epoch: 49 \tLoss 0.09967107988066143\n",
            "Epoch: 50 \tLoss 0.09658744393123521\n"
          ]
        },
        {
          "output_type": "display_data",
          "data": {
            "text/plain": [
              "<Figure size 640x480 with 1 Axes>"
            ],
            "image/png": "[encoded data removed]"
          },
          "metadata": {}
        }
      ]
    },
    {
      "cell_type": "markdown",
      "source": [
        "#Reducing Overfitting with Weight Regularization"
      ],
      "metadata": {
        "id": "bMmrbjYgkwJL"
      }
    },
    {
      "cell_type": "code",
      "source": [
        "import torch\n",
        "import torch.nn as nn\n",
        "import numpy as np\n",
        "from torch.utils.data import DataLoader, TensorDataset\n",
        "from torch.optim import RMSprop\n",
        "from sklearn.datasets import make_classification\n",
        "from sklearn.model_selection import train_test_split\n",
        "import matplotlib.pyplot as plt\n",
        "\n",
        "\n",
        "features, target = make_classification(n_classes=2,\n",
        "                                       n_features=10,\n",
        "                                       n_samples=1000)\n",
        "\n",
        "f_train, f_test, t_train, t_test = train_test_split(features, target,\n",
        "                                                    test_size=0.1,\n",
        "                                                    random_state=1)\n",
        "\n",
        "torch.manual_seed(42)\n",
        "np.random.seed(42)\n",
        "\n",
        "x_train = torch.from_numpy(f_train).float()\n",
        "y_train = torch.from_numpy(t_train).float().view(-1, 1)\n",
        "x_test = torch.from_numpy(f_test).float()\n",
        "y_test = torch.from_numpy(t_test).float().view(-1, 1)\n",
        "\n",
        "class SimpleNeuralNet(nn.Module):\n",
        "    def __init__(self):\n",
        "        super(SimpleNeuralNet, self).__init__()\n",
        "        self.sequential = torch.nn.Sequential(\n",
        "            torch.nn.Linear(10, 16),\n",
        "            torch.nn.ReLU(),\n",
        "            torch.nn.Linear(16, 16),\n",
        "            torch.nn.ReLU(),\n",
        "            torch.nn.Linear(16, 1),\n",
        "            torch.nn.Sigmoid()\n",
        "        )\n",
        "\n",
        "    def forward(self, x):\n",
        "        x = self.sequential(x)\n",
        "        return x\n",
        "\n",
        "network = SimpleNeuralNet()\n",
        "\n",
        "criterion = nn.BCELoss()\n",
        "optimizer = torch.optim.Adam(network.parameters(), lr=1e-4, weight_decay=1e-5)\n",
        "\n",
        "train_data = TensorDataset(x_train, y_train)\n",
        "train_loader = DataLoader(train_data, batch_size=100, shuffle=True)\n",
        "\n",
        "network = torch.compile(network)\n",
        "\n",
        "epochs = 50\n",
        "train_losses = []\n",
        "test_losses = []\n",
        "\n",
        "for epoch in range(epochs):\n",
        "    epoch_loss = 0.0\n",
        "    for batch_idx, (data, target) in enumerate(train_loader):\n",
        "        optimizer.zero_grad()\n",
        "        output = network(data)\n",
        "        loss = criterion(output, target.float())\n",
        "        loss.backward()\n",
        "        optimizer.step()\n",
        "\n",
        "\n",
        "\n",
        "with torch.no_grad():\n",
        "    output = network(x_test)\n",
        "    test_loss = criterion(output, y_test)\n",
        "    test_accuracy = (output.round() == y_test).float().mean()\n",
        "    print(\"Test Loss:\", test_loss.item(), \"\\tTest Accuracy:\", test_accuracy.item())\n",
        "\n",
        ""
      ],
      "metadata": {
        "colab": {
          "base_uri": "https://localhost:8080/"
        },
        "id": "9z2Z3naYkhp4",
        "outputId": "c5d1ee51-247e-44c0-f74a-765d4069d160"
      },
      "execution_count": 34,
      "outputs": [
        {
          "output_type": "stream",
          "name": "stdout",
          "text": [
            "Test Loss: 0.574553906917572 \tTest Accuracy: 0.8799999952316284\n"
          ]
        }
      ]
    },
    {
      "cell_type": "markdown",
      "source": [
        "#Reducing Overfitting with Early Stopping"
      ],
      "metadata": {
        "id": "Vm3jjUHRmAik"
      }
    },
    {
      "cell_type": "code",
      "source": [
        "!pip install lightning"
      ],
      "metadata": {
        "colab": {
          "base_uri": "https://localhost:8080/"
        },
        "id": "7Qc7ZXJGmxHR",
        "outputId": "4a4697f3-9677-47fd-f04f-b33d51d8d755"
      },
      "execution_count": 28,
      "outputs": [
        {
          "output_type": "stream",
          "name": "stdout",
          "text": [
            "Collecting lightning\n",
            "  Downloading lightning-2.5.0.post0-py3-none-any.whl.metadata (40 kB)\n",
            "\u001b[?25l     \u001b[90m━━━━━━━━━━━━━━━━━━━━━━━━━━━━━━━━━━━━━━━━\u001b[0m \u001b[32m0.0/40.4 kB\u001b[0m \u001b[31m?\u001b[0m eta \u001b[36m-:--:--\u001b[0m\r\u001b[2K     \u001b[90m━━━━━━━━━━━━━━━━━━━━━━━━━━━━━━━━━━━━━━━━\u001b[0m \u001b[32m40.4/40.4 kB\u001b[0m \u001b[31m1.9 MB/s\u001b[0m eta \u001b[36m0:00:00\u001b[0m\n",
            "\u001b[?25hRequirement already satisfied: PyYAML<8.0,>=5.4 in /usr/local/lib/python3.11/dist-packages (from lightning) (6.0.2)\n",
            "Requirement already satisfied: fsspec<2026.0,>=2022.5.0 in /usr/local/lib/python3.11/dist-packages (from fsspec[http]<2026.0,>=2022.5.0->lightning) (2024.10.0)\n",
            "Collecting lightning-utilities<2.0,>=0.10.0 (from lightning)\n",
            "  Downloading lightning_utilities-0.12.0-py3-none-any.whl.metadata (5.6 kB)\n",
            "Requirement already satisfied: packaging<25.0,>=20.0 in /usr/local/lib/python3.11/dist-packages (from lightning) (24.2)\n",
            "Requirement already satisfied: torch<4.0,>=2.1.0 in /usr/local/lib/python3.11/dist-packages (from lightning) (2.5.1+cu124)\n",
            "Collecting torchmetrics<3.0,>=0.7.0 (from lightning)\n",
            "  Downloading torchmetrics-1.6.1-py3-none-any.whl.metadata (21 kB)\n",
            "Requirement already satisfied: tqdm<6.0,>=4.57.0 in /usr/local/lib/python3.11/dist-packages (from lightning) (4.67.1)\n",
            "Requirement already satisfied: typing-extensions<6.0,>=4.4.0 in /usr/local/lib/python3.11/dist-packages (from lightning) (4.12.2)\n",
            "Collecting pytorch-lightning (from lightning)\n",
            "  Downloading pytorch_lightning-2.5.0.post0-py3-none-any.whl.metadata (21 kB)\n",
            "Requirement already satisfied: aiohttp!=4.0.0a0,!=4.0.0a1 in /usr/local/lib/python3.11/dist-packages (from fsspec[http]<2026.0,>=2022.5.0->lightning) (3.11.12)\n",
            "Requirement already satisfied: setuptools in /usr/local/lib/python3.11/dist-packages (from lightning-utilities<2.0,>=0.10.0->lightning) (75.1.0)\n",
            "Requirement already satisfied: filelock in /usr/local/lib/python3.11/dist-packages (from torch<4.0,>=2.1.0->lightning) (3.17.0)\n",
            "Requirement already satisfied: networkx in /usr/local/lib/python3.11/dist-packages (from torch<4.0,>=2.1.0->lightning) (3.4.2)\n",
            "Requirement already satisfied: jinja2 in /usr/local/lib/python3.11/dist-packages (from torch<4.0,>=2.1.0->lightning) (3.1.5)\n",
            "Collecting nvidia-cuda-nvrtc-cu12==12.4.127 (from torch<4.0,>=2.1.0->lightning)\n",
            "  Downloading nvidia_cuda_nvrtc_cu12-12.4.127-py3-none-manylinux2014_x86_64.whl.metadata (1.5 kB)\n",
            "Collecting nvidia-cuda-runtime-cu12==12.4.127 (from torch<4.0,>=2.1.0->lightning)\n",
            "  Downloading nvidia_cuda_runtime_cu12-12.4.127-py3-none-manylinux2014_x86_64.whl.metadata (1.5 kB)\n",
            "Collecting nvidia-cuda-cupti-cu12==12.4.127 (from torch<4.0,>=2.1.0->lightning)\n",
            "  Downloading nvidia_cuda_cupti_cu12-12.4.127-py3-none-manylinux2014_x86_64.whl.metadata (1.6 kB)\n",
            "Collecting nvidia-cudnn-cu12==9.1.0.70 (from torch<4.0,>=2.1.0->lightning)\n",
            "  Downloading nvidia_cudnn_cu12-9.1.0.70-py3-none-manylinux2014_x86_64.whl.metadata (1.6 kB)\n",
            "Collecting nvidia-cublas-cu12==12.4.5.8 (from torch<4.0,>=2.1.0->lightning)\n",
            "  Downloading nvidia_cublas_cu12-12.4.5.8-py3-none-manylinux2014_x86_64.whl.metadata (1.5 kB)\n",
            "Collecting nvidia-cufft-cu12==11.2.1.3 (from torch<4.0,>=2.1.0->lightning)\n",
            "  Downloading nvidia_cufft_cu12-11.2.1.3-py3-none-manylinux2014_x86_64.whl.metadata (1.5 kB)\n",
            "Collecting nvidia-curand-cu12==10.3.5.147 (from torch<4.0,>=2.1.0->lightning)\n",
            "  Downloading nvidia_curand_cu12-10.3.5.147-py3-none-manylinux2014_x86_64.whl.metadata (1.5 kB)\n",
            "Collecting nvidia-cusolver-cu12==11.6.1.9 (from torch<4.0,>=2.1.0->lightning)\n",
            "  Downloading nvidia_cusolver_cu12-11.6.1.9-py3-none-manylinux2014_x86_64.whl.metadata (1.6 kB)\n",
            "Collecting nvidia-cusparse-cu12==12.3.1.170 (from torch<4.0,>=2.1.0->lightning)\n",
            "  Downloading nvidia_cusparse_cu12-12.3.1.170-py3-none-manylinux2014_x86_64.whl.metadata (1.6 kB)\n",
            "Requirement already satisfied: nvidia-nccl-cu12==2.21.5 in /usr/local/lib/python3.11/dist-packages (from torch<4.0,>=2.1.0->lightning) (2.21.5)\n",
            "Requirement already satisfied: nvidia-nvtx-cu12==12.4.127 in /usr/local/lib/python3.11/dist-packages (from torch<4.0,>=2.1.0->lightning) (12.4.127)\n",
            "Collecting nvidia-nvjitlink-cu12==12.4.127 (from torch<4.0,>=2.1.0->lightning)\n",
            "  Downloading nvidia_nvjitlink_cu12-12.4.127-py3-none-manylinux2014_x86_64.whl.metadata (1.5 kB)\n",
            "Requirement already satisfied: triton==3.1.0 in /usr/local/lib/python3.11/dist-packages (from torch<4.0,>=2.1.0->lightning) (3.1.0)\n",
            "Requirement already satisfied: sympy==1.13.1 in /usr/local/lib/python3.11/dist-packages (from torch<4.0,>=2.1.0->lightning) (1.13.1)\n",
            "Requirement already satisfied: mpmath<1.4,>=1.1.0 in /usr/local/lib/python3.11/dist-packages (from sympy==1.13.1->torch<4.0,>=2.1.0->lightning) (1.3.0)\n",
            "Requirement already satisfied: numpy>1.20.0 in /usr/local/lib/python3.11/dist-packages (from torchmetrics<3.0,>=0.7.0->lightning) (1.26.4)\n",
            "Requirement already satisfied: aiohappyeyeballs>=2.3.0 in /usr/local/lib/python3.11/dist-packages (from aiohttp!=4.0.0a0,!=4.0.0a1->fsspec[http]<2026.0,>=2022.5.0->lightning) (2.4.6)\n",
            "Requirement already satisfied: aiosignal>=1.1.2 in /usr/local/lib/python3.11/dist-packages (from aiohttp!=4.0.0a0,!=4.0.0a1->fsspec[http]<2026.0,>=2022.5.0->lightning) (1.3.2)\n",
            "Requirement already satisfied: attrs>=17.3.0 in /usr/local/lib/python3.11/dist-packages (from aiohttp!=4.0.0a0,!=4.0.0a1->fsspec[http]<2026.0,>=2022.5.0->lightning) (25.1.0)\n",
            "Requirement already satisfied: frozenlist>=1.1.1 in /usr/local/lib/python3.11/dist-packages (from aiohttp!=4.0.0a0,!=4.0.0a1->fsspec[http]<2026.0,>=2022.5.0->lightning) (1.5.0)\n",
            "Requirement already satisfied: multidict<7.0,>=4.5 in /usr/local/lib/python3.11/dist-packages (from aiohttp!=4.0.0a0,!=4.0.0a1->fsspec[http]<2026.0,>=2022.5.0->lightning) (6.1.0)\n",
            "Requirement already satisfied: propcache>=0.2.0 in /usr/local/lib/python3.11/dist-packages (from aiohttp!=4.0.0a0,!=4.0.0a1->fsspec[http]<2026.0,>=2022.5.0->lightning) (0.2.1)\n",
            "Requirement already satisfied: yarl<2.0,>=1.17.0 in /usr/local/lib/python3.11/dist-packages (from aiohttp!=4.0.0a0,!=4.0.0a1->fsspec[http]<2026.0,>=2022.5.0->lightning) (1.18.3)\n",
            "Requirement already satisfied: MarkupSafe>=2.0 in /usr/local/lib/python3.11/dist-packages (from jinja2->torch<4.0,>=2.1.0->lightning) (3.0.2)\n",
            "Requirement already satisfied: idna>=2.0 in /usr/local/lib/python3.11/dist-packages (from yarl<2.0,>=1.17.0->aiohttp!=4.0.0a0,!=4.0.0a1->fsspec[http]<2026.0,>=2022.5.0->lightning) (3.10)\n",
            "Downloading lightning-2.5.0.post0-py3-none-any.whl (815 kB)\n",
            "\u001b[2K   \u001b[90m━━━━━━━━━━━━━━━━━━━━━━━━━━━━━━━━━━━━━━━━\u001b[0m \u001b[32m815.2/815.2 kB\u001b[0m \u001b[31m14.8 MB/s\u001b[0m eta \u001b[36m0:00:00\u001b[0m\n",
            "\u001b[?25hDownloading lightning_utilities-0.12.0-py3-none-any.whl (28 kB)\n",
            "Downloading nvidia_cublas_cu12-12.4.5.8-py3-none-manylinux2014_x86_64.whl (363.4 MB)\n",
            "\u001b[2K   \u001b[90m━━━━━━━━━━━━━━━━━━━━━━━━━━━━━━━━━━━━━━━━\u001b[0m \u001b[32m363.4/363.4 MB\u001b[0m \u001b[31m1.2 MB/s\u001b[0m eta \u001b[36m0:00:00\u001b[0m\n",
            "\u001b[?25hDownloading nvidia_cuda_cupti_cu12-12.4.127-py3-none-manylinux2014_x86_64.whl (13.8 MB)\n",
            "\u001b[2K   \u001b[90m━━━━━━━━━━━━━━━━━━━━━━━━━━━━━━━━━━━━━━━━\u001b[0m \u001b[32m13.8/13.8 MB\u001b[0m \u001b[31m21.8 MB/s\u001b[0m eta \u001b[36m0:00:00\u001b[0m\n",
            "\u001b[?25hDownloading nvidia_cuda_nvrtc_cu12-12.4.127-py3-none-manylinux2014_x86_64.whl (24.6 MB)\n",
            "\u001b[2K   \u001b[90m━━━━━━━━━━━━━━━━━━━━━━━━━━━━━━━━━━━━━━━━\u001b[0m \u001b[32m24.6/24.6 MB\u001b[0m \u001b[31m11.7 MB/s\u001b[0m eta \u001b[36m0:00:00\u001b[0m\n",
            "\u001b[?25hDownloading nvidia_cuda_runtime_cu12-12.4.127-py3-none-manylinux2014_x86_64.whl (883 kB)\n",
            "\u001b[2K   \u001b[90m━━━━━━━━━━━━━━━━━━━━━━━━━━━━━━━━━━━━━━━━\u001b[0m \u001b[32m883.7/883.7 kB\u001b[0m \u001b[31m18.2 MB/s\u001b[0m eta \u001b[36m0:00:00\u001b[0m\n",
            "\u001b[?25hDownloading nvidia_cudnn_cu12-9.1.0.70-py3-none-manylinux2014_x86_64.whl (664.8 MB)\n",
            "\u001b[2K   \u001b[90m━━━━━━━━━━━━━━━━━━━━━━━━━━━━━━━━━━━━━━━━\u001b[0m \u001b[32m664.8/664.8 MB\u001b[0m \u001b[31m772.0 kB/s\u001b[0m eta \u001b[36m0:00:00\u001b[0m\n",
            "\u001b[?25hDownloading nvidia_cufft_cu12-11.2.1.3-py3-none-manylinux2014_x86_64.whl (211.5 MB)\n",
            "\u001b[2K   \u001b[90m━━━━━━━━━━━━━━━━━━━━━━━━━━━━━━━━━━━━━━━━\u001b[0m \u001b[32m211.5/211.5 MB\u001b[0m \u001b[31m6.8 MB/s\u001b[0m eta \u001b[36m0:00:00\u001b[0m\n",
            "\u001b[?25hDownloading nvidia_curand_cu12-10.3.5.147-py3-none-manylinux2014_x86_64.whl (56.3 MB)\n",
            "\u001b[2K   \u001b[90m━━━━━━━━━━━━━━━━━━━━━━━━━━━━━━━━━━━━━━━━\u001b[0m \u001b[32m56.3/56.3 MB\u001b[0m \u001b[31m12.8 MB/s\u001b[0m eta \u001b[36m0:00:00\u001b[0m\n",
            "\u001b[?25hDownloading nvidia_cusolver_cu12-11.6.1.9-py3-none-manylinux2014_x86_64.whl (127.9 MB)\n",
            "\u001b[2K   \u001b[90m━━━━━━━━━━━━━━━━━━━━━━━━━━━━━━━━━━━━━━━━\u001b[0m \u001b[32m127.9/127.9 MB\u001b[0m \u001b[31m8.6 MB/s\u001b[0m eta \u001b[36m0:00:00\u001b[0m\n",
            "\u001b[?25hDownloading nvidia_cusparse_cu12-12.3.1.170-py3-none-manylinux2014_x86_64.whl (207.5 MB)\n",
            "\u001b[2K   \u001b[90m━━━━━━━━━━━━━━━━━━━━━━━━━━━━━━━━━━━━━━━━\u001b[0m \u001b[32m207.5/207.5 MB\u001b[0m \u001b[31m4.5 MB/s\u001b[0m eta \u001b[36m0:00:00\u001b[0m\n",
            "\u001b[?25hDownloading nvidia_nvjitlink_cu12-12.4.127-py3-none-manylinux2014_x86_64.whl (21.1 MB)\n",
            "\u001b[2K   \u001b[90m━━━━━━━━━━━━━━━━━━━━━━━━━━━━━━━━━━━━━━━━\u001b[0m \u001b[32m21.1/21.1 MB\u001b[0m \u001b[31m72.3 MB/s\u001b[0m eta \u001b[36m0:00:00\u001b[0m\n",
            "\u001b[?25hDownloading torchmetrics-1.6.1-py3-none-any.whl (927 kB)\n",
            "\u001b[2K   \u001b[90m━━━━━━━━━━━━━━━━━━━━━━━━━━━━━━━━━━━━━━━━\u001b[0m \u001b[32m927.3/927.3 kB\u001b[0m \u001b[31m37.4 MB/s\u001b[0m eta \u001b[36m0:00:00\u001b[0m\n",
            "\u001b[?25hDownloading pytorch_lightning-2.5.0.post0-py3-none-any.whl (819 kB)\n",
            "\u001b[2K   \u001b[90m━━━━━━━━━━━━━━━━━━━━━━━━━━━━━━━━━━━━━━━━\u001b[0m \u001b[32m819.3/819.3 kB\u001b[0m \u001b[31m40.9 MB/s\u001b[0m eta \u001b[36m0:00:00\u001b[0m\n",
            "\u001b[?25hInstalling collected packages: nvidia-nvjitlink-cu12, nvidia-curand-cu12, nvidia-cufft-cu12, nvidia-cuda-runtime-cu12, nvidia-cuda-nvrtc-cu12, nvidia-cuda-cupti-cu12, nvidia-cublas-cu12, lightning-utilities, nvidia-cusparse-cu12, nvidia-cudnn-cu12, nvidia-cusolver-cu12, torchmetrics, pytorch-lightning, lightning\n",
            "  Attempting uninstall: nvidia-nvjitlink-cu12\n",
            "    Found existing installation: nvidia-nvjitlink-cu12 12.5.82\n",
            "    Uninstalling nvidia-nvjitlink-cu12-12.5.82:\n",
            "      Successfully uninstalled nvidia-nvjitlink-cu12-12.5.82\n",
            "  Attempting uninstall: nvidia-curand-cu12\n",
            "    Found existing installation: nvidia-curand-cu12 10.3.6.82\n",
            "    Uninstalling nvidia-curand-cu12-10.3.6.82:\n",
            "      Successfully uninstalled nvidia-curand-cu12-10.3.6.82\n",
            "  Attempting uninstall: nvidia-cufft-cu12\n",
            "    Found existing installation: nvidia-cufft-cu12 11.2.3.61\n",
            "    Uninstalling nvidia-cufft-cu12-11.2.3.61:\n",
            "      Successfully uninstalled nvidia-cufft-cu12-11.2.3.61\n",
            "  Attempting uninstall: nvidia-cuda-runtime-cu12\n",
            "    Found existing installation: nvidia-cuda-runtime-cu12 12.5.82\n",
            "    Uninstalling nvidia-cuda-runtime-cu12-12.5.82:\n",
            "      Successfully uninstalled nvidia-cuda-runtime-cu12-12.5.82\n",
            "  Attempting uninstall: nvidia-cuda-nvrtc-cu12\n",
            "    Found existing installation: nvidia-cuda-nvrtc-cu12 12.5.82\n",
            "    Uninstalling nvidia-cuda-nvrtc-cu12-12.5.82:\n",
            "      Successfully uninstalled nvidia-cuda-nvrtc-cu12-12.5.82\n",
            "  Attempting uninstall: nvidia-cuda-cupti-cu12\n",
            "    Found existing installation: nvidia-cuda-cupti-cu12 12.5.82\n",
            "    Uninstalling nvidia-cuda-cupti-cu12-12.5.82:\n",
            "      Successfully uninstalled nvidia-cuda-cupti-cu12-12.5.82\n",
            "  Attempting uninstall: nvidia-cublas-cu12\n",
            "    Found existing installation: nvidia-cublas-cu12 12.5.3.2\n",
            "    Uninstalling nvidia-cublas-cu12-12.5.3.2:\n",
            "      Successfully uninstalled nvidia-cublas-cu12-12.5.3.2\n",
            "  Attempting uninstall: nvidia-cusparse-cu12\n",
            "    Found existing installation: nvidia-cusparse-cu12 12.5.1.3\n",
            "    Uninstalling nvidia-cusparse-cu12-12.5.1.3:\n",
            "      Successfully uninstalled nvidia-cusparse-cu12-12.5.1.3\n",
            "  Attempting uninstall: nvidia-cudnn-cu12\n",
            "    Found existing installation: nvidia-cudnn-cu12 9.3.0.75\n",
            "    Uninstalling nvidia-cudnn-cu12-9.3.0.75:\n",
            "      Successfully uninstalled nvidia-cudnn-cu12-9.3.0.75\n",
            "  Attempting uninstall: nvidia-cusolver-cu12\n",
            "    Found existing installation: nvidia-cusolver-cu12 11.6.3.83\n",
            "    Uninstalling nvidia-cusolver-cu12-11.6.3.83:\n",
            "      Successfully uninstalled nvidia-cusolver-cu12-11.6.3.83\n",
            "Successfully installed lightning-2.5.0.post0 lightning-utilities-0.12.0 nvidia-cublas-cu12-12.4.5.8 nvidia-cuda-cupti-cu12-12.4.127 nvidia-cuda-nvrtc-cu12-12.4.127 nvidia-cuda-runtime-cu12-12.4.127 nvidia-cudnn-cu12-9.1.0.70 nvidia-cufft-cu12-11.2.1.3 nvidia-curand-cu12-10.3.5.147 nvidia-cusolver-cu12-11.6.1.9 nvidia-cusparse-cu12-12.3.1.170 nvidia-nvjitlink-cu12-12.4.127 pytorch-lightning-2.5.0.post0 torchmetrics-1.6.1\n"
          ]
        }
      ]
    },
    {
      "cell_type": "code",
      "source": [
        "import torch\n",
        "import torch.nn as nn\n",
        "import numpy as np\n",
        "from torch.utils.data import DataLoader, TensorDataset\n",
        "from torch.optim import RMSprop\n",
        "import lightning as pl\n",
        "from lightning.pytorch.callbacks.early_stopping import EarlyStopping\n",
        "from sklearn.datasets import make_classification\n",
        "from sklearn.model_selection import train_test_split\n",
        "import matplotlib.pyplot as plt\n",
        "\n",
        "\n",
        "features, target = make_classification(n_classes=2,\n",
        "                                       n_features=10,\n",
        "                                       n_samples=1000)\n",
        "\n",
        "f_train, f_test, t_train, t_test = train_test_split(features, target,\n",
        "                                                    test_size=0.1,\n",
        "                                                    random_state=1)\n",
        "\n",
        "torch.manual_seed(42)\n",
        "np.random.seed(42)\n",
        "\n",
        "x_train = torch.from_numpy(f_train).float()\n",
        "y_train = torch.from_numpy(t_train).float().view(-1, 1)\n",
        "x_test = torch.from_numpy(f_test).float()\n",
        "y_test = torch.from_numpy(t_test).float().view(-1, 1)\n",
        "\n",
        "class SimpleNeuralNet(nn.Module):\n",
        "    def __init__(self):\n",
        "        super(SimpleNeuralNet, self).__init__()\n",
        "        self.sequential = torch.nn.Sequential(\n",
        "            torch.nn.Linear(10, 16),\n",
        "            torch.nn.ReLU(),\n",
        "            torch.nn.Linear(16, 16),\n",
        "            torch.nn.ReLU(),\n",
        "            torch.nn.Linear(16, 1),\n",
        "            torch.nn.Sigmoid()\n",
        "        )\n",
        "\n",
        "    def forward(self, x):\n",
        "        x = self.sequential(x)\n",
        "        return x\n",
        "\n",
        "class LightningNetwork(pl.LightningModule):\n",
        "    def __init__(self, network):\n",
        "        super().__init__()\n",
        "        self.network = network\n",
        "        self.criterion = nn.BCELoss()\n",
        "        self.metric = nn.functional.binary_cross_entropy\n",
        "\n",
        "    def training_step(self, batch, batch_idx):\n",
        "        data, target = batch\n",
        "        output = self.network(data)\n",
        "        loss = self.criterion(output, target)\n",
        "        self.log(\"val_loss\", loss)\n",
        "        return loss\n",
        "\n",
        "    def configure_optimizers(self):\n",
        "        return torch.optim.Adam(self.parameters(), lr=1e-3)\n",
        "\n",
        "\n",
        "train_data = TensorDataset(x_train, y_train)\n",
        "train_loader = DataLoader(train_data, batch_size=100, shuffle=True)\n",
        "\n",
        "network = LightningNetwork(SimpleNeuralNet())\n",
        "\n",
        "trainer = pl.Trainer(callbacks=[EarlyStopping(monitor=\"val_loss\", mode=\"min\", patience=3)],\n",
        "                     max_epochs=1000)\n",
        "trainer.fit(model=network, train_dataloaders=train_loader)\n",
        ""
      ],
      "metadata": {
        "colab": {
          "base_uri": "https://localhost:8080/",
          "height": 607,
          "referenced_widgets": [
            "54c45ae6154d4754a4ac53b4efcdec5d",
            "39885c6467a84ae2a9915ec0318ee2d2",
            "058a74c7d316421db0045cd581883897",
            "b5222ad0570f494ba742a8277e280ed6",
            "ac2d8fdeee304a0bb359485255c15e2e",
            "4e37693c81a140fca8e9978482abd68f",
            "10cb00c201844c9aa88ab3d5a60b48e3",
            "90209a1da4ce41ca84ca6cac3b52f647",
            "4c12bdc5eabb4f77a8d068b11f6678ad",
            "78cc3b55947046b8b0a5d85f1287a6c3",
            "4791e4f105d24379832dbcf113d34873"
          ]
        },
        "id": "LYH_W3NfmAI9",
        "outputId": "d3d0c36c-71c8-4b8f-cbc8-f0a6e2038510"
      },
      "execution_count": 30,
      "outputs": [
        {
          "output_type": "stream",
          "name": "stderr",
          "text": [
            "INFO: GPU available: False, used: False\n",
            "INFO:lightning.pytorch.utilities.rank_zero:GPU available: False, used: False\n",
            "INFO: TPU available: False, using: 0 TPU cores\n",
            "INFO:lightning.pytorch.utilities.rank_zero:TPU available: False, using: 0 TPU cores\n",
            "INFO: HPU available: False, using: 0 HPUs\n",
            "INFO:lightning.pytorch.utilities.rank_zero:HPU available: False, using: 0 HPUs\n",
            "INFO: \n",
            "  | Name      | Type            | Params | Mode \n",
            "------------------------------------------------------\n",
            "0 | network   | SimpleNeuralNet | 465    | train\n",
            "1 | criterion | BCELoss         | 0      | train\n",
            "------------------------------------------------------\n",
            "465       Trainable params\n",
            "0         Non-trainable params\n",
            "465       Total params\n",
            "0.002     Total estimated model params size (MB)\n",
            "9         Modules in train mode\n",
            "0         Modules in eval mode\n",
            "INFO:lightning.pytorch.callbacks.model_summary:\n",
            "  | Name      | Type            | Params | Mode \n",
            "------------------------------------------------------\n",
            "0 | network   | SimpleNeuralNet | 465    | train\n",
            "1 | criterion | BCELoss         | 0      | train\n",
            "------------------------------------------------------\n",
            "465       Trainable params\n",
            "0         Non-trainable params\n",
            "465       Total params\n",
            "0.002     Total estimated model params size (MB)\n",
            "9         Modules in train mode\n",
            "0         Modules in eval mode\n",
            "/usr/local/lib/python3.11/dist-packages/lightning/pytorch/loops/fit_loop.py:310: The number of training batches (9) is smaller than the logging interval Trainer(log_every_n_steps=50). Set a lower value for log_every_n_steps if you want to see logs for the training epoch.\n"
          ]
        },
        {
          "output_type": "display_data",
          "data": {
            "text/plain": [
              "Training: |          | 0/? [00:00<?, ?it/s]"
            ],
            "application/vnd.jupyter.widget-view+json": {
              "version_major": 2,
              "version_minor": 0,
              "model_id": "54c45ae6154d4754a4ac53b4efcdec5d"
            }
          },
          "metadata": {}
        }
      ]
    },
    {
      "cell_type": "markdown",
      "source": [
        "#Reducing Overfitting with Dropout"
      ],
      "metadata": {
        "id": "JYmB6kL5pbl3"
      }
    },
    {
      "cell_type": "code",
      "source": [
        "import torch\n",
        "import torch.nn as nn\n",
        "import numpy as np\n",
        "from torch.utils.data import DataLoader, TensorDataset\n",
        "from torch.optim import RMSprop\n",
        "from sklearn.datasets import make_classification\n",
        "from sklearn.model_selection import train_test_split\n",
        "import matplotlib.pyplot as plt\n",
        "\n",
        "\n",
        "features, target = make_classification(n_classes=2,\n",
        "                                       n_features=10,\n",
        "                                       n_samples=1000)\n",
        "\n",
        "f_train, f_test, t_train, t_test = train_test_split(features, target,\n",
        "                                                    test_size=0.1,\n",
        "                                                    random_state=1)\n",
        "\n",
        "torch.manual_seed(42)\n",
        "np.random.seed(42)\n",
        "\n",
        "x_train = torch.from_numpy(f_train).float()\n",
        "y_train = torch.from_numpy(t_train).float().view(-1, 1)\n",
        "x_test = torch.from_numpy(f_test).float()\n",
        "y_test = torch.from_numpy(t_test).float().view(-1, 1)\n",
        "\n",
        "class SimpleNeuralNet(nn.Module):\n",
        "    def __init__(self):\n",
        "        super(SimpleNeuralNet, self).__init__()\n",
        "        self.sequential = torch.nn.Sequential(\n",
        "            torch.nn.Linear(10, 16),\n",
        "            torch.nn.ReLU(),\n",
        "            torch.nn.Linear(16, 16),\n",
        "            torch.nn.ReLU(),\n",
        "            torch.nn.Linear(16, 1),\n",
        "            torch.nn.Dropout(0, 1),\n",
        "            torch.nn.Sigmoid()\n",
        "        )\n",
        "\n",
        "    def forward(self, x):\n",
        "        x = self.sequential(x)\n",
        "        return x\n",
        "\n",
        "network = SimpleNeuralNet()\n",
        "\n",
        "criterion = nn.BCELoss()\n",
        "optimizer = RMSprop(network.parameters())\n",
        "\n",
        "train_data = TensorDataset(x_train, y_train)\n",
        "train_loader = DataLoader(train_data, batch_size=100, shuffle=True)\n",
        "\n",
        "network = torch.compile(network)\n",
        "\n",
        "epochs = 10\n",
        "\n",
        "for epoch in range(epochs):\n",
        "    epoch_loss = 0.0\n",
        "    for batch_idx, (data, target) in enumerate(train_loader):\n",
        "        optimizer.zero_grad()\n",
        "        output = network(data)\n",
        "        loss = criterion(output, target.float())\n",
        "        loss.backward()\n",
        "        optimizer.step()\n",
        "        epoch_loss += loss.item()\n",
        "    avg_loss = epoch_loss/len(train_loader)\n",
        "    print(\"Epoch:\", epoch+1, \"\\tLoss\", avg_loss)\n",
        "\n",
        "\n",
        "with torch.no_grad():\n",
        "    output = network(x_test)\n",
        "    test_loss = criterion(output, y_test)\n",
        "    test_accuracy = (output.round() == y_test).float().mean()\n",
        "    print(\"Test Loss:\", test_loss.item(), \"\\tTest Accuracy:\", test_accuracy.item())\n",
        ""
      ],
      "metadata": {
        "colab": {
          "base_uri": "https://localhost:8080/"
        },
        "id": "sXt-NzRapZwa",
        "outputId": "03a8f953-7972-476e-926b-065adce126be"
      },
      "execution_count": 32,
      "outputs": [
        {
          "output_type": "stream",
          "name": "stdout",
          "text": [
            "Epoch: 1 \tLoss 0.42739420466952854\n",
            "Epoch: 2 \tLoss 0.3266519291533364\n",
            "Epoch: 3 \tLoss 0.2937507513496611\n",
            "Epoch: 4 \tLoss 0.281571196185218\n",
            "Epoch: 5 \tLoss 0.27301228046417236\n",
            "Epoch: 6 \tLoss 0.25873030059867436\n",
            "Epoch: 7 \tLoss 0.24836049642827776\n",
            "Epoch: 8 \tLoss 0.238298076722357\n",
            "Epoch: 9 \tLoss 0.22843272652890947\n",
            "Epoch: 10 \tLoss 0.2239339699347814\n",
            "Test Loss: 0.24491555988788605 \tTest Accuracy: 0.9100000262260437\n"
          ]
        }
      ]
    },
    {
      "cell_type": "markdown",
      "source": [
        "#Saving Model Training Progress"
      ],
      "metadata": {
        "id": "O7dUtqwyrDRM"
      }
    },
    {
      "cell_type": "code",
      "source": [
        "import torch\n",
        "import torch.nn as nn\n",
        "import numpy as np\n",
        "from torch.utils.data import DataLoader, TensorDataset\n",
        "from torch.optim import RMSprop\n",
        "from sklearn.datasets import make_classification\n",
        "from sklearn.model_selection import train_test_split\n",
        "import matplotlib.pyplot as plt\n",
        "\n",
        "\n",
        "features, target = make_classification(n_classes=2,\n",
        "                                       n_features=10,\n",
        "                                       n_samples=1000)\n",
        "\n",
        "f_train, f_test, t_train, t_test = train_test_split(features, target,\n",
        "                                                    test_size=0.1,\n",
        "                                                    random_state=1)\n",
        "\n",
        "torch.manual_seed(42)\n",
        "np.random.seed(42)\n",
        "\n",
        "x_train = torch.from_numpy(f_train).float()\n",
        "y_train = torch.from_numpy(t_train).float().view(-1, 1)\n",
        "x_test = torch.from_numpy(f_test).float()\n",
        "y_test = torch.from_numpy(t_test).float().view(-1, 1)\n",
        "\n",
        "class SimpleNeuralNet(nn.Module):\n",
        "    def __init__(self):\n",
        "        super(SimpleNeuralNet, self).__init__()\n",
        "        self.sequential = torch.nn.Sequential(\n",
        "            torch.nn.Linear(10, 16),\n",
        "            torch.nn.ReLU(),\n",
        "            torch.nn.Linear(16, 16),\n",
        "            torch.nn.ReLU(),\n",
        "            torch.nn.Linear(16, 1),\n",
        "            torch.nn.Dropout(0, 1),\n",
        "            torch.nn.Sigmoid()\n",
        "        )\n",
        "\n",
        "    def forward(self, x):\n",
        "        x = self.sequential(x)\n",
        "        return x\n",
        "\n",
        "network = SimpleNeuralNet()\n",
        "\n",
        "criterion = nn.BCELoss()\n",
        "optimizer = RMSprop(network.parameters())\n",
        "\n",
        "train_data = TensorDataset(x_train, y_train)\n",
        "train_loader = DataLoader(train_data, batch_size=100, shuffle=True)\n",
        "\n",
        "network = torch.compile(network)\n",
        "\n",
        "epochs = 10\n",
        "\n",
        "for epoch in range(epochs):\n",
        "    epoch_loss = 0.0\n",
        "    for batch_idx, (data, target) in enumerate(train_loader):\n",
        "        optimizer.zero_grad()\n",
        "        output = network(data)\n",
        "        loss = criterion(output, target.float())\n",
        "        loss.backward()\n",
        "        optimizer.step()\n",
        "\n",
        "        torch.save(\n",
        "            {\n",
        "                \"epoch\":epoch,\n",
        "                \"model_state_dict\":network.state_dict(),\n",
        "                \"optimizer_state_dict\":optimizer.state_dict(),\n",
        "                \"loss\":loss,\n",
        "            },\n",
        "            \"model.pt\"\n",
        "        )\n",
        "\n",
        "    print(\"Epoch:\", epoch+1, \"\\tLoss:\", loss.item())\n",
        "\n",
        ""
      ],
      "metadata": {
        "colab": {
          "base_uri": "https://localhost:8080/"
        },
        "id": "3bJ_qHk3qxWq",
        "outputId": "6af5e26f-f4bd-41dd-93df-05ec0b1d54a8"
      },
      "execution_count": 35,
      "outputs": [
        {
          "output_type": "stream",
          "name": "stdout",
          "text": [
            "Epoch: 1 \tLoss: 0.30226412415504456\n",
            "Epoch: 2 \tLoss: 0.2617690861225128\n",
            "Epoch: 3 \tLoss: 0.29320910573005676\n",
            "Epoch: 4 \tLoss: 0.27236729860305786\n",
            "Epoch: 5 \tLoss: 0.23855085670948029\n",
            "Epoch: 6 \tLoss: 0.25731468200683594\n",
            "Epoch: 7 \tLoss: 0.2234327644109726\n",
            "Epoch: 8 \tLoss: 0.1975921094417572\n",
            "Epoch: 9 \tLoss: 0.33465367555618286\n",
            "Epoch: 10 \tLoss: 0.2376769781112671\n"
          ]
        }
      ]
    },
    {
      "cell_type": "markdown",
      "source": [
        "#Tuning Neural Networks"
      ],
      "metadata": {
        "id": "Cp40y2-isKR8"
      }
    },
    {
      "cell_type": "code",
      "source": [
        "!pip install ray"
      ],
      "metadata": {
        "colab": {
          "base_uri": "https://localhost:8080/"
        },
        "id": "qnYDWxHJySsg",
        "outputId": "63fc0333-6bd4-4b5c-e9ad-45163fdfc609"
      },
      "execution_count": 36,
      "outputs": [
        {
          "output_type": "stream",
          "name": "stdout",
          "text": [
            "Collecting ray\n",
            "  Downloading ray-2.42.1-cp311-cp311-manylinux2014_x86_64.whl.metadata (18 kB)\n",
            "Requirement already satisfied: click>=7.0 in /usr/local/lib/python3.11/dist-packages (from ray) (8.1.8)\n",
            "Requirement already satisfied: filelock in /usr/local/lib/python3.11/dist-packages (from ray) (3.17.0)\n",
            "Requirement already satisfied: jsonschema in /usr/local/lib/python3.11/dist-packages (from ray) (4.23.0)\n",
            "Requirement already satisfied: msgpack<2.0.0,>=1.0.0 in /usr/local/lib/python3.11/dist-packages (from ray) (1.1.0)\n",
            "Requirement already satisfied: packaging in /usr/local/lib/python3.11/dist-packages (from ray) (24.2)\n",
            "Requirement already satisfied: protobuf!=3.19.5,>=3.15.3 in /usr/local/lib/python3.11/dist-packages (from ray) (4.25.6)\n",
            "Requirement already satisfied: pyyaml in /usr/local/lib/python3.11/dist-packages (from ray) (6.0.2)\n",
            "Requirement already satisfied: aiosignal in /usr/local/lib/python3.11/dist-packages (from ray) (1.3.2)\n",
            "Requirement already satisfied: frozenlist in /usr/local/lib/python3.11/dist-packages (from ray) (1.5.0)\n",
            "Requirement already satisfied: requests in /usr/local/lib/python3.11/dist-packages (from ray) (2.32.3)\n",
            "Requirement already satisfied: attrs>=22.2.0 in /usr/local/lib/python3.11/dist-packages (from jsonschema->ray) (25.1.0)\n",
            "Requirement already satisfied: jsonschema-specifications>=2023.03.6 in /usr/local/lib/python3.11/dist-packages (from jsonschema->ray) (2024.10.1)\n",
            "Requirement already satisfied: referencing>=0.28.4 in /usr/local/lib/python3.11/dist-packages (from jsonschema->ray) (0.36.2)\n",
            "Requirement already satisfied: rpds-py>=0.7.1 in /usr/local/lib/python3.11/dist-packages (from jsonschema->ray) (0.22.3)\n",
            "Requirement already satisfied: charset-normalizer<4,>=2 in /usr/local/lib/python3.11/dist-packages (from requests->ray) (3.4.1)\n",
            "Requirement already satisfied: idna<4,>=2.5 in /usr/local/lib/python3.11/dist-packages (from requests->ray) (3.10)\n",
            "Requirement already satisfied: urllib3<3,>=1.21.1 in /usr/local/lib/python3.11/dist-packages (from requests->ray) (2.3.0)\n",
            "Requirement already satisfied: certifi>=2017.4.17 in /usr/local/lib/python3.11/dist-packages (from requests->ray) (2025.1.31)\n",
            "Requirement already satisfied: typing-extensions>=4.4.0 in /usr/local/lib/python3.11/dist-packages (from referencing>=0.28.4->jsonschema->ray) (4.12.2)\n",
            "Downloading ray-2.42.1-cp311-cp311-manylinux2014_x86_64.whl (67.4 MB)\n",
            "\u001b[2K   \u001b[90m━━━━━━━━━━━━━━━━━━━━━━━━━━━━━━━━━━━━━━━━\u001b[0m \u001b[32m67.4/67.4 MB\u001b[0m \u001b[31m7.3 MB/s\u001b[0m eta \u001b[36m0:00:00\u001b[0m\n",
            "\u001b[?25hInstalling collected packages: ray\n",
            "Successfully installed ray-2.42.1\n"
          ]
        }
      ]
    },
    {
      "cell_type": "code",
      "source": [
        "from functools import partial\n",
        "import numpy as np\n",
        "import os\n",
        "import torch\n",
        "import torch.nn as nn\n",
        "import torch.nn.functional as F\n",
        "import torch.optim as optim\n",
        "from torch.optim import RMSprop\n",
        "from torch.utils.data import random_split, DataLoader, TensorDataset\n",
        "from ray import tune\n",
        "from ray.tune import CLIReporter\n",
        "from ray.tune.schedulers import ASHAScheduler\n",
        "from sklearn.datasets import make_classification\n",
        "from sklearn.model_selection import train_test_split\n",
        "\n",
        "features, target = make_classification(n_classes=2,\n",
        "                                       n_features=10,\n",
        "                                       n_samples=1000)\n",
        "\n",
        "f_train, f_test, t_train, t_test = train_test_split(features, target,\n",
        "                                                    test_size=0.1,\n",
        "                                                    random_state=1)\n",
        "\n",
        "torch.manual_seed(42)\n",
        "np.random.seed(42)\n",
        "\n",
        "x_train = torch.from_numpy(f_train).float()\n",
        "y_train = torch.from_numpy(t_train).float().view(-1, 1)\n",
        "x_test = torch.from_numpy(f_test).float()\n",
        "y_test = torch.from_numpy(t_test).float().view(-1, 1)\n",
        "\n",
        "class SimpleNeuralNet(nn.Module):\n",
        "    def __init__(self, layer_size_1=10, layer_size_2=10):\n",
        "        super(SimpleNeuralNet, self).__init__()\n",
        "        self.sequential = torch.nn.Sequential(\n",
        "            torch.nn.Linear(10, layer_size_1),\n",
        "            torch.nn.ReLU(),\n",
        "            torch.nn.Linear(layer_size_1, layer_size_2),\n",
        "            torch.nn.ReLU(),\n",
        "            torch.nn.Linear(layer_size_2, 1),\n",
        "            torch.nn.Sigmoid()\n",
        "        )\n",
        "\n",
        "    def forward(self, x):\n",
        "        return self.sequential(x)\n",
        "\n",
        "config = {\n",
        "    \"layer_size_1\":tune.sample_from(lambda _: 2 ** np.random.randint(2, 9)),\n",
        "    \"layer_size_2\":tune.sample_from(lambda _: 2 ** np.random.randint(2, 9)),\n",
        "    \"lr\": tune.loguniform(1e-4, 1e-1),\n",
        "}\n",
        "\n",
        "scheduler = ASHAScheduler(\n",
        "    metric=\"loss\",\n",
        "    mode=\"min\",\n",
        "    max_t=1000,\n",
        "    grace_period=1,\n",
        "    reduction_factor=2\n",
        ")\n",
        "\n",
        "reporter = CLIReporter(\n",
        "    parameter_columns = [\"layer_size_1\", \"layer_size_2\", \"lr\"],\n",
        "    metric_columns=[\"loss\"]\n",
        ")\n",
        "\n",
        "def train_model(config, epochs=3):\n",
        "    network = SimpleNeuralNet(config[\"layer_size_1\"], config[\"layer_size_2\"])\n",
        "    criterion = nn.BCELoss()\n",
        "    optimizer = optim.SGD(network.parameters(), lr=config[\"lr\"], momentum=0.9)\n",
        "    train_data = TensorDataset(x_train, y_train)\n",
        "    train_loader = DataLoader(train_data, batch_size=100, shuffle=True)\n",
        "    network = torch.compile(network)\n",
        "\n",
        "    for epoch in range(epochs):\n",
        "        for batch_idx, (data, target) in enumerate(train_loader):\n",
        "            optimizer.zero_grad()\n",
        "            output = network(data)\n",
        "            loss = criterion(output, target)\n",
        "            loss.backward()\n",
        "            optimizer.step()\n",
        "        tune.report(loss=(loss.item()))\n",
        "\n",
        "result = tune.run(train_model,\n",
        "                  resources_per_trial={\"cpu\": 1},\n",
        "                  config=config,\n",
        "                  num_samples=1,\n",
        "                  scheduler=scheduler,\n",
        "                  progress_reporter=reporter\n",
        "                  )\n",
        "\n",
        "best_trial = result.get_best_trial(\"loss\", \"min\", \"last\")\n",
        "print(\"Best trail config: {}\".format(best_trial.config))\n",
        "print(\"Best trail final validation loss: {}\".format(best_trial.last_result[\"loss\"]))\n",
        "\n",
        "best_trained_model = SimpleNeuralNet(best_trial.config[\"layer_size_1\"],\n",
        "                                     best_trial.config[\"layer_size_2\"])"
      ],
      "metadata": {
        "colab": {
          "base_uri": "https://localhost:8080/",
          "height": 1000
        },
        "id": "Yh037fI8sIe5",
        "outputId": "c4d03bfb-2441-4735-85e6-bff36fc3de50"
      },
      "execution_count": 46,
      "outputs": [
        {
          "output_type": "stream",
          "name": "stderr",
          "text": [
            "2025-02-24 07:41:50,567\tWARNING callback.py:136 -- The TensorboardX logger cannot be instantiated because either TensorboardX or one of it's dependencies is not installed. Please make sure you have the latest version of TensorboardX installed: `pip install -U tensorboardx`\n",
            "2025-02-24 07:41:50,571\tWARNING tune.py:902 -- AIR_VERBOSITY is set, ignoring passed-in ProgressReporter for now.\n"
          ]
        },
        {
          "output_type": "stream",
          "name": "stdout",
          "text": [
            "+--------------------------------------------------------------------+\n",
            "| Configuration for experiment     train_model_2025-02-24_07-41-50   |\n",
            "+--------------------------------------------------------------------+\n",
            "| Search algorithm                 BasicVariantGenerator             |\n",
            "| Scheduler                        AsyncHyperBandScheduler           |\n",
            "| Number of trials                 1                                 |\n",
            "+--------------------------------------------------------------------+\n",
            "\n",
            "View detailed results here: /root/ray_results/train_model_2025-02-24_07-41-50\n",
            "\n",
            "Trial status: 1 PENDING\n",
            "Current time: 2025-02-24 07:41:50. Total running time: 0s\n",
            "Logical resource usage: 0/2 CPUs, 0/0 GPUs\n",
            "+-------------------------------------------------+\n",
            "| Trial name                status             lr |\n",
            "+-------------------------------------------------+\n",
            "| train_model_cf145_00000   PENDING    0.00132929 |\n",
            "+-------------------------------------------------+\n",
            "\n",
            "Trial train_model_cf145_00000 started with configuration:\n",
            "+--------------------------------------------------+\n",
            "| Trial train_model_cf145_00000 config             |\n",
            "+--------------------------------------------------+\n",
            "| layer_size_1                                  64 |\n",
            "| layer_size_2                                 256 |\n",
            "| lr                                       0.00133 |\n",
            "+--------------------------------------------------+\n"
          ]
        },
        {
          "output_type": "stream",
          "name": "stderr",
          "text": [
            "\u001b[36m(train_model pid=45784)\u001b[0m No CUDA runtime is found, using CUDA_HOME='/usr/local/cuda'\n",
            "2025-02-24 07:42:10,154\tERROR tune_controller.py:1331 -- Trial task failed for trial train_model_cf145_00000\n",
            "Traceback (most recent call last):\n",
            "  File \"/usr/local/lib/python3.11/dist-packages/ray/air/execution/_internal/event_manager.py\", line 110, in resolve_future\n",
            "    result = ray.get(future)\n",
            "             ^^^^^^^^^^^^^^^\n",
            "  File \"/usr/local/lib/python3.11/dist-packages/ray/_private/auto_init_hook.py\", line 21, in auto_init_wrapper\n",
            "    return fn(*args, **kwargs)\n",
            "           ^^^^^^^^^^^^^^^^^^^\n",
            "  File \"/usr/local/lib/python3.11/dist-packages/ray/_private/client_mode_hook.py\", line 103, in wrapper\n",
            "    return func(*args, **kwargs)\n",
            "           ^^^^^^^^^^^^^^^^^^^^^\n",
            "  File \"/usr/local/lib/python3.11/dist-packages/ray/_private/worker.py\", line 2772, in get\n",
            "    values, debugger_breakpoint = worker.get_objects(object_refs, timeout=timeout)\n",
            "                                  ^^^^^^^^^^^^^^^^^^^^^^^^^^^^^^^^^^^^^^^^^^^^^^^^\n",
            "  File \"/usr/local/lib/python3.11/dist-packages/ray/_private/worker.py\", line 919, in get_objects\n",
            "    raise value.as_instanceof_cause()\n",
            "ray.exceptions.RayTaskError(TypeError): \u001b[36mray::ImplicitFunc.train()\u001b[39m (pid=45784, ip=172.28.0.12, actor_id=0f893703ba2e5e46559fcd8401000000, repr=train_model)\n",
            "           ^^^^^^^^^^^^^^^^^^^^^^^^^^^^^^^^^^^^\n",
            "           ^^^^^^^^^^^^^^^^^^^^^^^^^^^^^^^\n",
            "  File \"/usr/local/lib/python3.11/dist-packages/ray/tune/trainable/trainable.py\", line 331, in train\n",
            "    raise skipped from exception_cause(skipped)\n",
            "  File \"/usr/local/lib/python3.11/dist-packages/ray/air/_internal/util.py\", line 107, in run\n",
            "    self._ret = self._target(*self._args, **self._kwargs)\n",
            "                ^^^^^^^^^^^^^^^^^^^^^^^^^^^^^^^^^^^^^^^^^\n",
            "  File \"/usr/local/lib/python3.11/dist-packages/ray/tune/trainable/function_trainable.py\", line 45, in <lambda>\n",
            "    training_func=lambda: self._trainable_func(self.config),\n",
            "                          ^^^^^^^^^^^^^^^^^^^^^^^^^^^^^^^^^\n",
            "           ^^^^^^^^^^^^^^^^^^^^^^^^^^^^^^^\n",
            "  File \"/usr/local/lib/python3.11/dist-packages/ray/tune/trainable/function_trainable.py\", line 261, in _trainable_func\n",
            "    output = fn()\n",
            "             ^^^^\n",
            "  File \"<ipython-input-46-2fc457ccfb73>\", line 81, in train_model\n",
            "  File \"/usr/local/lib/python3.11/dist-packages/ray/train/_internal/session.py\", line 663, in wrapper\n",
            "    return fn(*args, **kwargs)\n",
            "           ^^^^^^^^^^^^^^^^^^^\n",
            "TypeError: report() got an unexpected keyword argument 'loss'\n",
            "2025-02-24 07:42:10,165\tINFO tune.py:1009 -- Wrote the latest version of all result files and experiment state to '/root/ray_results/train_model_2025-02-24_07-41-50' in 0.0046s.\n"
          ]
        },
        {
          "output_type": "stream",
          "name": "stdout",
          "text": [
            "\n",
            "Trial train_model_cf145_00000 errored after 0 iterations at 2025-02-24 07:42:10. Total running time: 19s\n",
            "Error file: /tmp/ray/session_2025-02-24_07-29-29_880993_371/artifacts/2025-02-24_07-41-50/train_model_2025-02-24_07-41-50/driver_artifacts/train_model_cf145_00000_0_lr=0.0013_2025-02-24_07-41-50/error.txt\n",
            "\n",
            "Trial status: 1 ERROR\n",
            "Current time: 2025-02-24 07:42:10. Total running time: 19s\n",
            "Logical resource usage: 1.0/2 CPUs, 0/0 GPUs\n",
            "+-------------------------------------------------+\n",
            "| Trial name                status             lr |\n",
            "+-------------------------------------------------+\n",
            "| train_model_cf145_00000   ERROR      0.00132929 |\n",
            "+-------------------------------------------------+\n",
            "\n",
            "Number of errored trials: 1\n",
            "+-------------------------------------------------------------------------------------------------------------------------------------------------------------------------------------------------------------------------------------------+\n",
            "| Trial name                  # failures   error file                                                                                                                                                                                       |\n",
            "+-------------------------------------------------------------------------------------------------------------------------------------------------------------------------------------------------------------------------------------------+\n",
            "| train_model_cf145_00000              1   /tmp/ray/session_2025-02-24_07-29-29_880993_371/artifacts/2025-02-24_07-41-50/train_model_2025-02-24_07-41-50/driver_artifacts/train_model_cf145_00000_0_lr=0.0013_2025-02-24_07-41-50/error.txt |\n",
            "+-------------------------------------------------------------------------------------------------------------------------------------------------------------------------------------------------------------------------------------------+\n",
            "\n"
          ]
        },
        {
          "output_type": "error",
          "ename": "TuneError",
          "evalue": "('Trials did not complete', [train_model_cf145_00000])",
          "traceback": [
            "\u001b[0;31m---------------------------------------------------------------------------\u001b[0m",
            "\u001b[0;31mTuneError\u001b[0m                                 Traceback (most recent call last)",
            "\u001b[0;32m<ipython-input-46-2fc457ccfb73>\u001b[0m in \u001b[0;36m<cell line: 0>\u001b[0;34m()\u001b[0m\n\u001b[1;32m     81\u001b[0m         \u001b[0mtune\u001b[0m\u001b[0;34m.\u001b[0m\u001b[0mreport\u001b[0m\u001b[0;34m(\u001b[0m\u001b[0mloss\u001b[0m\u001b[0;34m=\u001b[0m\u001b[0;34m(\u001b[0m\u001b[0mloss\u001b[0m\u001b[0;34m.\u001b[0m\u001b[0mitem\u001b[0m\u001b[0;34m(\u001b[0m\u001b[0;34m)\u001b[0m\u001b[0;34m)\u001b[0m\u001b[0;34m)\u001b[0m\u001b[0;34m\u001b[0m\u001b[0;34m\u001b[0m\u001b[0m\n\u001b[1;32m     82\u001b[0m \u001b[0;34m\u001b[0m\u001b[0m\n\u001b[0;32m---> 83\u001b[0;31m result = tune.run(train_model,\n\u001b[0m\u001b[1;32m     84\u001b[0m                   \u001b[0mresources_per_trial\u001b[0m\u001b[0;34m=\u001b[0m\u001b[0;34m{\u001b[0m\u001b[0;34m\"cpu\"\u001b[0m\u001b[0;34m:\u001b[0m \u001b[0;36m1\u001b[0m\u001b[0;34m}\u001b[0m\u001b[0;34m,\u001b[0m\u001b[0;34m\u001b[0m\u001b[0;34m\u001b[0m\u001b[0m\n\u001b[1;32m     85\u001b[0m                   \u001b[0mconfig\u001b[0m\u001b[0;34m=\u001b[0m\u001b[0mconfig\u001b[0m\u001b[0;34m,\u001b[0m\u001b[0;34m\u001b[0m\u001b[0;34m\u001b[0m\u001b[0m\n",
            "\u001b[0;32m/usr/local/lib/python3.11/dist-packages/ray/tune/tune.py\u001b[0m in \u001b[0;36mrun\u001b[0;34m(run_or_experiment, name, metric, mode, stop, time_budget_s, config, resources_per_trial, num_samples, storage_path, storage_filesystem, search_alg, scheduler, checkpoint_config, verbose, progress_reporter, log_to_file, trial_name_creator, trial_dirname_creator, sync_config, export_formats, max_failures, fail_fast, restore, resume, resume_config, reuse_actors, raise_on_failed_trial, callbacks, max_concurrent_trials, keep_checkpoints_num, checkpoint_score_attr, checkpoint_freq, checkpoint_at_end, chdir_to_trial_dir, local_dir, _remote, _remote_string_queue, _entrypoint)\u001b[0m\n\u001b[1;32m   1033\u001b[0m     \u001b[0;32mif\u001b[0m \u001b[0mincomplete_trials\u001b[0m\u001b[0;34m:\u001b[0m\u001b[0;34m\u001b[0m\u001b[0;34m\u001b[0m\u001b[0m\n\u001b[1;32m   1034\u001b[0m         \u001b[0;32mif\u001b[0m \u001b[0mraise_on_failed_trial\u001b[0m \u001b[0;32mand\u001b[0m \u001b[0;32mnot\u001b[0m \u001b[0mexperiment_interrupted_event\u001b[0m\u001b[0;34m.\u001b[0m\u001b[0mis_set\u001b[0m\u001b[0;34m(\u001b[0m\u001b[0;34m)\u001b[0m\u001b[0;34m:\u001b[0m\u001b[0;34m\u001b[0m\u001b[0;34m\u001b[0m\u001b[0m\n\u001b[0;32m-> 1035\u001b[0;31m             \u001b[0;32mraise\u001b[0m \u001b[0mTuneError\u001b[0m\u001b[0;34m(\u001b[0m\u001b[0;34m\"Trials did not complete\"\u001b[0m\u001b[0;34m,\u001b[0m \u001b[0mincomplete_trials\u001b[0m\u001b[0;34m)\u001b[0m\u001b[0;34m\u001b[0m\u001b[0;34m\u001b[0m\u001b[0m\n\u001b[0m\u001b[1;32m   1036\u001b[0m         \u001b[0;32melse\u001b[0m\u001b[0;34m:\u001b[0m\u001b[0;34m\u001b[0m\u001b[0;34m\u001b[0m\u001b[0m\n\u001b[1;32m   1037\u001b[0m             \u001b[0mlogger\u001b[0m\u001b[0;34m.\u001b[0m\u001b[0merror\u001b[0m\u001b[0;34m(\u001b[0m\u001b[0;34m\"Trials did not complete: %s\"\u001b[0m\u001b[0;34m,\u001b[0m \u001b[0mincomplete_trials\u001b[0m\u001b[0;34m)\u001b[0m\u001b[0;34m\u001b[0m\u001b[0;34m\u001b[0m\u001b[0m\n",
            "\u001b[0;31mTuneError\u001b[0m: ('Trials did not complete', [train_model_cf145_00000])"
          ]
        }
      ]
    },
    {
      "cell_type": "markdown",
      "source": [
        "#Visualizing Neural Networks"
      ],
      "metadata": {
        "id": "TBQFVH0U6FvH"
      }
    },
    {
      "cell_type": "code",
      "source": [
        "!pip install torchviz"
      ],
      "metadata": {
        "colab": {
          "base_uri": "https://localhost:8080/"
        },
        "id": "MMNLH6Iq65Dg",
        "outputId": "bddeb53c-18d1-4b44-fce8-a7fe90de5984"
      },
      "execution_count": 47,
      "outputs": [
        {
          "output_type": "stream",
          "name": "stdout",
          "text": [
            "Collecting torchviz\n",
            "  Downloading torchviz-0.0.3-py3-none-any.whl.metadata (2.1 kB)\n",
            "Requirement already satisfied: torch in /usr/local/lib/python3.11/dist-packages (from torchviz) (2.5.1+cu124)\n",
            "Requirement already satisfied: graphviz in /usr/local/lib/python3.11/dist-packages (from torchviz) (0.20.3)\n",
            "Requirement already satisfied: filelock in /usr/local/lib/python3.11/dist-packages (from torch->torchviz) (3.17.0)\n",
            "Requirement already satisfied: typing-extensions>=4.8.0 in /usr/local/lib/python3.11/dist-packages (from torch->torchviz) (4.12.2)\n",
            "Requirement already satisfied: networkx in /usr/local/lib/python3.11/dist-packages (from torch->torchviz) (3.4.2)\n",
            "Requirement already satisfied: jinja2 in /usr/local/lib/python3.11/dist-packages (from torch->torchviz) (3.1.5)\n",
            "Requirement already satisfied: fsspec in /usr/local/lib/python3.11/dist-packages (from torch->torchviz) (2024.10.0)\n",
            "Requirement already satisfied: nvidia-cuda-nvrtc-cu12==12.4.127 in /usr/local/lib/python3.11/dist-packages (from torch->torchviz) (12.4.127)\n",
            "Requirement already satisfied: nvidia-cuda-runtime-cu12==12.4.127 in /usr/local/lib/python3.11/dist-packages (from torch->torchviz) (12.4.127)\n",
            "Requirement already satisfied: nvidia-cuda-cupti-cu12==12.4.127 in /usr/local/lib/python3.11/dist-packages (from torch->torchviz) (12.4.127)\n",
            "Requirement already satisfied: nvidia-cudnn-cu12==9.1.0.70 in /usr/local/lib/python3.11/dist-packages (from torch->torchviz) (9.1.0.70)\n",
            "Requirement already satisfied: nvidia-cublas-cu12==12.4.5.8 in /usr/local/lib/python3.11/dist-packages (from torch->torchviz) (12.4.5.8)\n",
            "Requirement already satisfied: nvidia-cufft-cu12==11.2.1.3 in /usr/local/lib/python3.11/dist-packages (from torch->torchviz) (11.2.1.3)\n",
            "Requirement already satisfied: nvidia-curand-cu12==10.3.5.147 in /usr/local/lib/python3.11/dist-packages (from torch->torchviz) (10.3.5.147)\n",
            "Requirement already satisfied: nvidia-cusolver-cu12==11.6.1.9 in /usr/local/lib/python3.11/dist-packages (from torch->torchviz) (11.6.1.9)\n",
            "Requirement already satisfied: nvidia-cusparse-cu12==12.3.1.170 in /usr/local/lib/python3.11/dist-packages (from torch->torchviz) (12.3.1.170)\n",
            "Requirement already satisfied: nvidia-nccl-cu12==2.21.5 in /usr/local/lib/python3.11/dist-packages (from torch->torchviz) (2.21.5)\n",
            "Requirement already satisfied: nvidia-nvtx-cu12==12.4.127 in /usr/local/lib/python3.11/dist-packages (from torch->torchviz) (12.4.127)\n",
            "Requirement already satisfied: nvidia-nvjitlink-cu12==12.4.127 in /usr/local/lib/python3.11/dist-packages (from torch->torchviz) (12.4.127)\n",
            "Requirement already satisfied: triton==3.1.0 in /usr/local/lib/python3.11/dist-packages (from torch->torchviz) (3.1.0)\n",
            "Requirement already satisfied: sympy==1.13.1 in /usr/local/lib/python3.11/dist-packages (from torch->torchviz) (1.13.1)\n",
            "Requirement already satisfied: mpmath<1.4,>=1.1.0 in /usr/local/lib/python3.11/dist-packages (from sympy==1.13.1->torch->torchviz) (1.3.0)\n",
            "Requirement already satisfied: MarkupSafe>=2.0 in /usr/local/lib/python3.11/dist-packages (from jinja2->torch->torchviz) (3.0.2)\n",
            "Downloading torchviz-0.0.3-py3-none-any.whl (5.7 kB)\n",
            "Installing collected packages: torchviz\n",
            "Successfully installed torchviz-0.0.3\n"
          ]
        }
      ]
    },
    {
      "cell_type": "code",
      "source": [
        "import torch\n",
        "import torch.nn as nn\n",
        "import numpy as np\n",
        "from torch.utils.data import DataLoader, TensorDataset\n",
        "from torch.optim import RMSprop\n",
        "from torchviz import make_dot\n",
        "from sklearn.datasets import make_classification\n",
        "from sklearn.model_selection import train_test_split\n",
        "import matplotlib.pyplot as plt\n",
        "\n",
        "\n",
        "features, target = make_classification(n_classes=2,\n",
        "                                       n_features=10,\n",
        "                                       n_samples=1000)\n",
        "\n",
        "f_train, f_test, t_train, t_test = train_test_split(features, target,\n",
        "                                                    test_size=0.1,\n",
        "                                                    random_state=1)\n",
        "\n",
        "torch.manual_seed(42)\n",
        "np.random.seed(42)\n",
        "\n",
        "x_train = torch.from_numpy(f_train).float()\n",
        "y_train = torch.from_numpy(t_train).float().view(-1, 1)\n",
        "x_test = torch.from_numpy(f_test).float()\n",
        "y_test = torch.from_numpy(t_test).float().view(-1, 1)\n",
        "\n",
        "class SimpleNeuralNet(nn.Module):\n",
        "    def __init__(self):\n",
        "        super(SimpleNeuralNet, self).__init__()\n",
        "        self.sequential = torch.nn.Sequential(\n",
        "            torch.nn.Linear(10, 16),\n",
        "            torch.nn.ReLU(),\n",
        "            torch.nn.Linear(16, 16),\n",
        "            torch.nn.ReLU(),\n",
        "            torch.nn.Linear(16, 1),\n",
        "            torch.nn.Sigmoid()\n",
        "        )\n",
        "\n",
        "    def forward(self, x):\n",
        "        x = self.sequential(x)\n",
        "        return x\n",
        "\n",
        "network = SimpleNeuralNet()\n",
        "\n",
        "criterion = nn.BCELoss()\n",
        "optimizer = RMSprop(network.parameters())\n",
        "\n",
        "train_data = TensorDataset(x_train, y_train)\n",
        "train_loader = DataLoader(train_data, batch_size=100, shuffle=True)\n",
        "\n",
        "network = torch.compile(network)\n",
        "\n",
        "epochs = 3\n",
        "\n",
        "for epoch in range(epochs):\n",
        "    epoch_loss = 0.0\n",
        "    for batch_idx, (data, target) in enumerate(train_loader):\n",
        "        optimizer.zero_grad()\n",
        "        output = network(data)\n",
        "        loss = criterion(output, target.float())\n",
        "        loss.backward()\n",
        "        optimizer.step()\n",
        "\n",
        "example_input = x_train[:1]\n",
        "example_output = network(example_input)\n",
        "\n",
        "# Generate the computational graph\n",
        "make_dot(example_output, params=dict(network.named_parameters())).render(\n",
        "    \"simple_neural_network\",\n",
        "    format=\"png\"\n",
        ")\n",
        "\n",
        ""
      ],
      "metadata": {
        "colab": {
          "base_uri": "https://localhost:8080/",
          "height": 35
        },
        "id": "SPTJW5iP5xpv",
        "outputId": "1efee13c-017a-4651-8759-afbd1f7da29f"
      },
      "execution_count": 53,
      "outputs": [
        {
          "output_type": "execute_result",
          "data": {
            "text/plain": [
              "'simple_neural_network.png'"
            ],
            "application/vnd.google.colaboratory.intrinsic+json": {
              "type": "string"
            }
          },
          "metadata": {},
          "execution_count": 53
        }
      ]
    }
  ]
}